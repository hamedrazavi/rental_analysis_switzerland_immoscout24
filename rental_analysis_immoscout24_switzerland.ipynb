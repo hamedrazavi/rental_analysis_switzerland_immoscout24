{
 "cells": [
  {
   "cell_type": "markdown",
   "metadata": {},
   "source": [
    "## Analysis and prediction of the price of the appartments in Switzerland (Extraction of the data from Immoscout24.ch)\n",
    "\n",
    "We first extract the rental listing data from immoscout24.ch and then parse it; convert the text data to pandas data frames (thus text mining and feature extraction will be done), and finally a model to predict the appartment rental price given the features for the new listings. \n",
    "\n",
    "### Save the rental data"
   ]
  },
  {
   "cell_type": "code",
   "execution_count": 1,
   "metadata": {},
   "outputs": [],
   "source": [
    "import html2text\n",
    "import requests\n",
    "import time\n",
    "import os\n",
    "import datetime"
   ]
  },
  {
   "cell_type": "code",
   "execution_count": 2,
   "metadata": {},
   "outputs": [],
   "source": [
    "first_page = requests.get('https://www.immoscout24.ch/en/flat/rent/city-lausanne')\n",
    "h = html2text\n",
    "c = h.html2text(first_page.text)"
   ]
  },
  {
   "cell_type": "markdown",
   "metadata": {},
   "source": [
    "Find the max page number:"
   ]
  },
  {
   "cell_type": "code",
   "execution_count": 3,
   "metadata": {},
   "outputs": [],
   "source": [
    "def find_max_page_num(c):\n",
    "    string = \"Page** 1 **of** \"\n",
    "    l_string = len(string)\n",
    "    a = c.find(string)\n",
    "    b = c.find(\"**\", a + l_string)\n",
    "    return int(c[a + l_string : b-1])"
   ]
  },
  {
   "cell_type": "code",
   "execution_count": 4,
   "metadata": {},
   "outputs": [],
   "source": [
    "max_page_num = find_max_page_num(c)"
   ]
  },
  {
   "cell_type": "markdown",
   "metadata": {},
   "source": [
    "Save all the apartment rental listings today in the desired city:"
   ]
  },
  {
   "cell_type": "code",
   "execution_count": 5,
   "metadata": {},
   "outputs": [],
   "source": [
    "date_today = datetime.datetime.now().strftime (\"%Y%m%d\")\n",
    "folder_name = '../rental_list/lausanne/' + date_today\n",
    "if not os.path.exists(folder_name):\n",
    "    os.makedirs(folder_name)\n",
    "main_url = 'https://www.immoscout24.ch/en/flat/rent/city-lausanne?ci&pn='\n",
    "for i in range(1, max_page_num + 1):\n",
    "    page_url = main_url + str(i)\n",
    "    page = requests.get(page_url)\n",
    "    c = h.html2text(page.text)\n",
    "    text_file_name = folder_name + '/' + 'page' + '_' + str(i) + '.txt'\n",
    "    text_file = open(text_file_name, \"w\")\n",
    "    text_file.write(c)\n",
    "    text_file.close()\n",
    "    time.sleep(10)    "
   ]
  }
 ],
 "metadata": {
  "kernelspec": {
   "display_name": "Python 3",
   "language": "python",
   "name": "python3"
  },
  "language_info": {
   "codemirror_mode": {
    "name": "ipython",
    "version": 3
   },
   "file_extension": ".py",
   "mimetype": "text/x-python",
   "name": "python",
   "nbconvert_exporter": "python",
   "pygments_lexer": "ipython3",
   "version": "3.5.2"
  }
 },
 "nbformat": 4,
 "nbformat_minor": 2
}
