{
 "cells": [
  {
   "cell_type": "markdown",
   "metadata": {},
   "source": [
    "## Analysis of the rental data"
   ]
  },
  {
   "cell_type": "markdown",
   "metadata": {},
   "source": [
    "Analysis of the rental data already downloded, parsed, and converted to csv. "
   ]
  },
  {
   "cell_type": "code",
   "execution_count": 25,
   "metadata": {},
   "outputs": [],
   "source": [
    "import pandas as pd\n",
    "from matplotlib import pyplot as plt"
   ]
  },
  {
   "cell_type": "code",
   "execution_count": 26,
   "metadata": {},
   "outputs": [],
   "source": [
    "city_path = '../rental_list/lausanne/' \n",
    "all_rental_data_path = city_path + 'all_rental_data'\n",
    "combined_data_path = all_rental_data_path + '/combined/rental_all.csv'\n",
    "df = pd.read_csv(combined_data_path)"
   ]
  },
  {
   "cell_type": "code",
   "execution_count": 27,
   "metadata": {},
   "outputs": [
    {
     "data": {
      "text/html": [
       "<div>\n",
       "<style scoped>\n",
       "    .dataframe tbody tr th:only-of-type {\n",
       "        vertical-align: middle;\n",
       "    }\n",
       "\n",
       "    .dataframe tbody tr th {\n",
       "        vertical-align: top;\n",
       "    }\n",
       "\n",
       "    .dataframe thead th {\n",
       "        text-align: right;\n",
       "    }\n",
       "</style>\n",
       "<table border=\"1\" class=\"dataframe\">\n",
       "  <thead>\n",
       "    <tr style=\"text-align: right;\">\n",
       "      <th></th>\n",
       "      <th>Id</th>\n",
       "      <th>SurfaceArea</th>\n",
       "      <th>NumRooms</th>\n",
       "      <th>Type</th>\n",
       "      <th>Address</th>\n",
       "      <th>Description</th>\n",
       "      <th>Rent</th>\n",
       "      <th>Bookmark</th>\n",
       "      <th>Link</th>\n",
       "    </tr>\n",
       "  </thead>\n",
       "  <tbody>\n",
       "    <tr>\n",
       "      <th>731</th>\n",
       "      <td>4757192</td>\n",
       "      <td>40.0</td>\n",
       "      <td>1.5</td>\n",
       "      <td>flat</td>\n",
       "      <td>Rue Saint Martin, 1005 Lausanne, VD</td>\n",
       "      <td>1.5 pièces méublé Lausanne centre</td>\n",
       "      <td>NaN</td>\n",
       "      <td>None</td>\n",
       "      <td>en/d/flat-rent-\\nlausanne/4757192?s=2&amp;t=1&amp;l=20...</td>\n",
       "    </tr>\n",
       "    <tr>\n",
       "      <th>732</th>\n",
       "      <td>4796165</td>\n",
       "      <td>65.0</td>\n",
       "      <td>3.0</td>\n",
       "      <td>flat</td>\n",
       "      <td>1018 Lausanne, VD</td>\n",
       "      <td>Echange appartement 3 pcs vers rue Pontaise co...</td>\n",
       "      <td>NaN</td>\n",
       "      <td>None</td>\n",
       "      <td>en/d/flat-rent-\\nlausanne/4796165?s=2&amp;t=1&amp;l=20...</td>\n",
       "    </tr>\n",
       "    <tr>\n",
       "      <th>733</th>\n",
       "      <td>4869501</td>\n",
       "      <td>85.0</td>\n",
       "      <td>3.5</td>\n",
       "      <td>flat</td>\n",
       "      <td>1005 Lausanne, VD</td>\n",
       "      <td>Echange appartement 3,5 pièces à Lsne contre 4...</td>\n",
       "      <td>NaN</td>\n",
       "      <td>None</td>\n",
       "      <td>en/d/flat-rent-\\nlausanne/4869501?s=2&amp;t=1&amp;l=20...</td>\n",
       "    </tr>\n",
       "    <tr>\n",
       "      <th>734</th>\n",
       "      <td>4952698</td>\n",
       "      <td>140.0</td>\n",
       "      <td>4.5</td>\n",
       "      <td>flat</td>\n",
       "      <td>Av. de Valmont18, 1010 Lausanne, VD</td>\n",
       "      <td>Chamber louer tu suite</td>\n",
       "      <td>NaN</td>\n",
       "      <td>None</td>\n",
       "      <td>en/d/flat-rent-\\nlausanne/4952698?s=2&amp;t=1&amp;l=20...</td>\n",
       "    </tr>\n",
       "    <tr>\n",
       "      <th>735</th>\n",
       "      <td>4960260</td>\n",
       "      <td>NaN</td>\n",
       "      <td>3.0</td>\n",
       "      <td>flat</td>\n",
       "      <td>1018 Lausanne, VD</td>\n",
       "      <td>Appartement 3 pièces</td>\n",
       "      <td>NaN</td>\n",
       "      <td>None</td>\n",
       "      <td>en/d/flat-rent-\\nlausanne/4960260?s=2&amp;t=1&amp;l=20...</td>\n",
       "    </tr>\n",
       "  </tbody>\n",
       "</table>\n",
       "</div>"
      ],
      "text/plain": [
       "          Id  SurfaceArea  NumRooms  Type  \\\n",
       "731  4757192         40.0       1.5  flat   \n",
       "732  4796165         65.0       3.0  flat   \n",
       "733  4869501         85.0       3.5  flat   \n",
       "734  4952698        140.0       4.5  flat   \n",
       "735  4960260          NaN       3.0  flat   \n",
       "\n",
       "                                 Address  \\\n",
       "731  Rue Saint Martin, 1005 Lausanne, VD   \n",
       "732                    1018 Lausanne, VD   \n",
       "733                    1005 Lausanne, VD   \n",
       "734  Av. de Valmont18, 1010 Lausanne, VD   \n",
       "735                    1018 Lausanne, VD   \n",
       "\n",
       "                                           Description  Rent Bookmark  \\\n",
       "731                  1.5 pièces méublé Lausanne centre   NaN     None   \n",
       "732  Echange appartement 3 pcs vers rue Pontaise co...   NaN     None   \n",
       "733  Echange appartement 3,5 pièces à Lsne contre 4...   NaN     None   \n",
       "734                             Chamber louer tu suite   NaN     None   \n",
       "735                               Appartement 3 pièces   NaN     None   \n",
       "\n",
       "                                                  Link  \n",
       "731  en/d/flat-rent-\\nlausanne/4757192?s=2&t=1&l=20...  \n",
       "732  en/d/flat-rent-\\nlausanne/4796165?s=2&t=1&l=20...  \n",
       "733  en/d/flat-rent-\\nlausanne/4869501?s=2&t=1&l=20...  \n",
       "734  en/d/flat-rent-\\nlausanne/4952698?s=2&t=1&l=20...  \n",
       "735  en/d/flat-rent-\\nlausanne/4960260?s=2&t=1&l=20...  "
      ]
     },
     "execution_count": 27,
     "metadata": {},
     "output_type": "execute_result"
    }
   ],
   "source": [
    "df.tail()"
   ]
  },
  {
   "cell_type": "code",
   "execution_count": 28,
   "metadata": {},
   "outputs": [
    {
     "data": {
      "text/plain": [
       "Series([], Name: Id, dtype: int64)"
      ]
     },
     "execution_count": 28,
     "metadata": {},
     "output_type": "execute_result"
    }
   ],
   "source": [
    "df['Id'].value_counts()[df['Id'].value_counts() > 1]"
   ]
  }
 ],
 "metadata": {
  "kernelspec": {
   "display_name": "Python 3",
   "language": "python",
   "name": "python3"
  },
  "language_info": {
   "codemirror_mode": {
    "name": "ipython",
    "version": 3
   },
   "file_extension": ".py",
   "mimetype": "text/x-python",
   "name": "python",
   "nbconvert_exporter": "python",
   "pygments_lexer": "ipython3",
   "version": "3.5.2"
  }
 },
 "nbformat": 4,
 "nbformat_minor": 2
}
