{
 "cells": [
  {
   "cell_type": "markdown",
   "metadata": {},
   "source": [
    "## Analysis of the rental data"
   ]
  },
  {
   "cell_type": "markdown",
   "metadata": {},
   "source": [
    "Analysis of the rental data already downloded, parsed, and converted to csv. "
   ]
  },
  {
   "cell_type": "code",
   "execution_count": 1,
   "metadata": {},
   "outputs": [],
   "source": [
    "import pandas as pd\n",
    "from matplotlib import pyplot as plt"
   ]
  },
  {
   "cell_type": "code",
   "execution_count": 2,
   "metadata": {},
   "outputs": [],
   "source": [
    "city_path = '../../rental_list/lausanne/' \n",
    "all_rental_data_path = city_path + 'all_rental_data'\n",
    "combined_data_path = all_rental_data_path + '/combined/rental_all.csv'\n",
    "df = pd.read_csv(combined_data_path)"
   ]
  },
  {
   "cell_type": "code",
   "execution_count": 17,
   "metadata": {},
   "outputs": [
    {
     "data": {
      "text/html": [
       "<div>\n",
       "<style scoped>\n",
       "    .dataframe tbody tr th:only-of-type {\n",
       "        vertical-align: middle;\n",
       "    }\n",
       "\n",
       "    .dataframe tbody tr th {\n",
       "        vertical-align: top;\n",
       "    }\n",
       "\n",
       "    .dataframe thead th {\n",
       "        text-align: right;\n",
       "    }\n",
       "</style>\n",
       "<table border=\"1\" class=\"dataframe\">\n",
       "  <thead>\n",
       "    <tr style=\"text-align: right;\">\n",
       "      <th></th>\n",
       "      <th>Id</th>\n",
       "      <th>SurfaceArea</th>\n",
       "      <th>NumRooms</th>\n",
       "      <th>Type</th>\n",
       "      <th>Address</th>\n",
       "      <th>Description</th>\n",
       "      <th>Rent</th>\n",
       "      <th>Bookmark</th>\n",
       "      <th>Link</th>\n",
       "    </tr>\n",
       "  </thead>\n",
       "  <tbody>\n",
       "    <tr>\n",
       "      <th>578</th>\n",
       "      <td>5104296</td>\n",
       "      <td>75.0</td>\n",
       "      <td>3.5</td>\n",
       "      <td>flat</td>\n",
       "      <td>Avenue de Sévelin, 1004 Lausanne, VD</td>\n",
       "      <td>Location d’appartement neuf</td>\n",
       "      <td>NaN</td>\n",
       "      <td>None</td>\n",
       "      <td>en/d/flat-rent-\\nlausanne/5104296?s=2&amp;t=1&amp;l=20...</td>\n",
       "    </tr>\n",
       "    <tr>\n",
       "      <th>579</th>\n",
       "      <td>5125689</td>\n",
       "      <td>40.0</td>\n",
       "      <td>2.0</td>\n",
       "      <td>flat</td>\n",
       "      <td>1012 Lausanne, VD</td>\n",
       "      <td>Appartement 2pièces à lausanne 1300.- charges ...</td>\n",
       "      <td>NaN</td>\n",
       "      <td>None</td>\n",
       "      <td>en/d/flat-rent-\\nlausanne/5125689?s=2&amp;t=1&amp;l=20...</td>\n",
       "    </tr>\n",
       "    <tr>\n",
       "      <th>580</th>\n",
       "      <td>5144165</td>\n",
       "      <td>NaN</td>\n",
       "      <td>1.0</td>\n",
       "      <td>studio</td>\n",
       "      <td>Rue Caroline 2 - Enning 3, 1003 Lausanne, VD</td>\n",
       "      <td>Sous location à usage de bureau</td>\n",
       "      <td>NaN</td>\n",
       "      <td>None</td>\n",
       "      <td>en/d/studio-rent-\\nlausanne/5144165?s=2&amp;t=1&amp;l=...</td>\n",
       "    </tr>\n",
       "    <tr>\n",
       "      <th>581</th>\n",
       "      <td>5146045</td>\n",
       "      <td>106.0</td>\n",
       "      <td>3.5</td>\n",
       "      <td>flat</td>\n",
       "      <td>1004 Lausanne, VD</td>\n",
       "      <td>Au centre ville</td>\n",
       "      <td>NaN</td>\n",
       "      <td>None</td>\n",
       "      <td>en/d/flat-rent-\\nlausanne/5146045?s=2&amp;t=1&amp;l=20...</td>\n",
       "    </tr>\n",
       "    <tr>\n",
       "      <th>582</th>\n",
       "      <td>5159698</td>\n",
       "      <td>28.0</td>\n",
       "      <td>1.0</td>\n",
       "      <td>studio</td>\n",
       "      <td>1018 Lausanne, VD</td>\n",
       "      <td>Studio meublé à louer ecublens</td>\n",
       "      <td>NaN</td>\n",
       "      <td>None</td>\n",
       "      <td>en/d/studio-rent-\\nlausanne/5159698?s=2&amp;t=1&amp;l=...</td>\n",
       "    </tr>\n",
       "  </tbody>\n",
       "</table>\n",
       "</div>"
      ],
      "text/plain": [
       "          Id  SurfaceArea  NumRooms    Type  \\\n",
       "578  5104296         75.0       3.5    flat   \n",
       "579  5125689         40.0       2.0    flat   \n",
       "580  5144165          NaN       1.0  studio   \n",
       "581  5146045        106.0       3.5    flat   \n",
       "582  5159698         28.0       1.0  studio   \n",
       "\n",
       "                                          Address  \\\n",
       "578          Avenue de Sévelin, 1004 Lausanne, VD   \n",
       "579                             1012 Lausanne, VD   \n",
       "580  Rue Caroline 2 - Enning 3, 1003 Lausanne, VD   \n",
       "581                             1004 Lausanne, VD   \n",
       "582                             1018 Lausanne, VD   \n",
       "\n",
       "                                           Description  Rent Bookmark  \\\n",
       "578                        Location d’appartement neuf   NaN     None   \n",
       "579  Appartement 2pièces à lausanne 1300.- charges ...   NaN     None   \n",
       "580                    Sous location à usage de bureau   NaN     None   \n",
       "581                                    Au centre ville   NaN     None   \n",
       "582                     Studio meublé à louer ecublens   NaN     None   \n",
       "\n",
       "                                                  Link  \n",
       "578  en/d/flat-rent-\\nlausanne/5104296?s=2&t=1&l=20...  \n",
       "579  en/d/flat-rent-\\nlausanne/5125689?s=2&t=1&l=20...  \n",
       "580  en/d/studio-rent-\\nlausanne/5144165?s=2&t=1&l=...  \n",
       "581  en/d/flat-rent-\\nlausanne/5146045?s=2&t=1&l=20...  \n",
       "582  en/d/studio-rent-\\nlausanne/5159698?s=2&t=1&l=...  "
      ]
     },
     "execution_count": 17,
     "metadata": {},
     "output_type": "execute_result"
    }
   ],
   "source": [
    "df.tail()"
   ]
  },
  {
   "cell_type": "code",
   "execution_count": 8,
   "metadata": {},
   "outputs": [
    {
     "data": {
      "text/plain": [
       "Series([], Name: Id, dtype: int64)"
      ]
     },
     "execution_count": 8,
     "metadata": {},
     "output_type": "execute_result"
    }
   ],
   "source": [
    "df['Id'].value_counts()[df['Id'].value_counts() > 1]"
   ]
  },
  {
   "cell_type": "code",
   "execution_count": null,
   "metadata": {},
   "outputs": [],
   "source": []
  }
 ],
 "metadata": {
  "kernelspec": {
   "display_name": "Python 3",
   "language": "python",
   "name": "python3"
  },
  "language_info": {
   "codemirror_mode": {
    "name": "ipython",
    "version": 3
   },
   "file_extension": ".py",
   "mimetype": "text/x-python",
   "name": "python",
   "nbconvert_exporter": "python",
   "pygments_lexer": "ipython3",
   "version": "3.5.2"
  }
 },
 "nbformat": 4,
 "nbformat_minor": 2
}
