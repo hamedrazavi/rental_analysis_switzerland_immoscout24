{
 "cells": [
  {
   "cell_type": "markdown",
   "metadata": {},
   "source": [
    "# Analysis of the rental data"
   ]
  },
  {
   "cell_type": "markdown",
   "metadata": {},
   "source": [
    "Analysis of the rental data already downloded, parsed, and converted to csv. "
   ]
  },
  {
   "cell_type": "code",
   "execution_count": 2,
   "metadata": {},
   "outputs": [],
   "source": [
    "import pandas as pd\n",
    "from matplotlib import pyplot as plt"
   ]
  },
  {
   "cell_type": "code",
   "execution_count": 3,
   "metadata": {},
   "outputs": [],
   "source": [
    "CITY_NAME = 'lausanne'"
   ]
  },
  {
   "cell_type": "code",
   "execution_count": 4,
   "metadata": {},
   "outputs": [],
   "source": [
    "city_path = '../../rental_list/' + CITY_NAME + '/' \n",
    "all_rental_data_path = city_path + 'all_rental_data'\n",
    "combined_data_path = all_rental_data_path + '/combined/rental_all.csv'\n",
    "df = pd.read_csv(combined_data_path)"
   ]
  },
  {
   "cell_type": "code",
   "execution_count": 5,
   "metadata": {},
   "outputs": [
    {
     "data": {
      "text/html": [
       "<div>\n",
       "<style scoped>\n",
       "    .dataframe tbody tr th:only-of-type {\n",
       "        vertical-align: middle;\n",
       "    }\n",
       "\n",
       "    .dataframe tbody tr th {\n",
       "        vertical-align: top;\n",
       "    }\n",
       "\n",
       "    .dataframe thead th {\n",
       "        text-align: right;\n",
       "    }\n",
       "</style>\n",
       "<table border=\"1\" class=\"dataframe\">\n",
       "  <thead>\n",
       "    <tr style=\"text-align: right;\">\n",
       "      <th></th>\n",
       "      <th>Id</th>\n",
       "      <th>SurfaceArea</th>\n",
       "      <th>NumRooms</th>\n",
       "      <th>Type</th>\n",
       "      <th>Address</th>\n",
       "      <th>Description</th>\n",
       "      <th>Rent</th>\n",
       "      <th>Bookmark</th>\n",
       "      <th>Link</th>\n",
       "    </tr>\n",
       "  </thead>\n",
       "  <tbody>\n",
       "    <tr>\n",
       "      <th>838</th>\n",
       "      <td>5104296</td>\n",
       "      <td>75.0</td>\n",
       "      <td>3.5</td>\n",
       "      <td>flat</td>\n",
       "      <td>Avenue de Sévelin, 1004 Lausanne, VD</td>\n",
       "      <td>Location d’appartement neuf</td>\n",
       "      <td>NaN</td>\n",
       "      <td>None</td>\n",
       "      <td>en/d/flat-rent-\\nlausanne/5104296?s=2&amp;t=1&amp;l=20...</td>\n",
       "    </tr>\n",
       "    <tr>\n",
       "      <th>839</th>\n",
       "      <td>5125689</td>\n",
       "      <td>40.0</td>\n",
       "      <td>2.0</td>\n",
       "      <td>flat</td>\n",
       "      <td>1012 Lausanne, VD</td>\n",
       "      <td>Appartement 2pièces à lausanne 1300.- charges ...</td>\n",
       "      <td>NaN</td>\n",
       "      <td>None</td>\n",
       "      <td>en/d/flat-rent-\\nlausanne/5125689?s=2&amp;t=1&amp;l=20...</td>\n",
       "    </tr>\n",
       "    <tr>\n",
       "      <th>840</th>\n",
       "      <td>5144165</td>\n",
       "      <td>NaN</td>\n",
       "      <td>1.0</td>\n",
       "      <td>studio</td>\n",
       "      <td>Rue Caroline 2 - Enning 3, 1003 Lausanne, VD</td>\n",
       "      <td>Sous location à usage de bureau</td>\n",
       "      <td>NaN</td>\n",
       "      <td>None</td>\n",
       "      <td>en/d/studio-rent-\\nlausanne/5144165?s=2&amp;t=1&amp;l=...</td>\n",
       "    </tr>\n",
       "    <tr>\n",
       "      <th>841</th>\n",
       "      <td>5146045</td>\n",
       "      <td>106.0</td>\n",
       "      <td>3.5</td>\n",
       "      <td>flat</td>\n",
       "      <td>1004 Lausanne, VD</td>\n",
       "      <td>Au centre ville</td>\n",
       "      <td>NaN</td>\n",
       "      <td>None</td>\n",
       "      <td>en/d/flat-rent-\\nlausanne/5146045?s=2&amp;t=1&amp;l=20...</td>\n",
       "    </tr>\n",
       "    <tr>\n",
       "      <th>842</th>\n",
       "      <td>5159698</td>\n",
       "      <td>28.0</td>\n",
       "      <td>1.0</td>\n",
       "      <td>studio</td>\n",
       "      <td>1018 Lausanne, VD</td>\n",
       "      <td>Studio meublé à louer ecublens</td>\n",
       "      <td>NaN</td>\n",
       "      <td>None</td>\n",
       "      <td>en/d/studio-rent-\\nlausanne/5159698?s=2&amp;t=1&amp;l=...</td>\n",
       "    </tr>\n",
       "  </tbody>\n",
       "</table>\n",
       "</div>"
      ],
      "text/plain": [
       "          Id  SurfaceArea  NumRooms    Type  \\\n",
       "838  5104296         75.0       3.5    flat   \n",
       "839  5125689         40.0       2.0    flat   \n",
       "840  5144165          NaN       1.0  studio   \n",
       "841  5146045        106.0       3.5    flat   \n",
       "842  5159698         28.0       1.0  studio   \n",
       "\n",
       "                                          Address  \\\n",
       "838          Avenue de Sévelin, 1004 Lausanne, VD   \n",
       "839                             1012 Lausanne, VD   \n",
       "840  Rue Caroline 2 - Enning 3, 1003 Lausanne, VD   \n",
       "841                             1004 Lausanne, VD   \n",
       "842                             1018 Lausanne, VD   \n",
       "\n",
       "                                           Description  Rent Bookmark  \\\n",
       "838                        Location d’appartement neuf   NaN     None   \n",
       "839  Appartement 2pièces à lausanne 1300.- charges ...   NaN     None   \n",
       "840                    Sous location à usage de bureau   NaN     None   \n",
       "841                                    Au centre ville   NaN     None   \n",
       "842                     Studio meublé à louer ecublens   NaN     None   \n",
       "\n",
       "                                                  Link  \n",
       "838  en/d/flat-rent-\\nlausanne/5104296?s=2&t=1&l=20...  \n",
       "839  en/d/flat-rent-\\nlausanne/5125689?s=2&t=1&l=20...  \n",
       "840  en/d/studio-rent-\\nlausanne/5144165?s=2&t=1&l=...  \n",
       "841  en/d/flat-rent-\\nlausanne/5146045?s=2&t=1&l=20...  \n",
       "842  en/d/studio-rent-\\nlausanne/5159698?s=2&t=1&l=...  "
      ]
     },
     "execution_count": 5,
     "metadata": {},
     "output_type": "execute_result"
    }
   ],
   "source": [
    "df.tail()"
   ]
  },
  {
   "cell_type": "code",
   "execution_count": 6,
   "metadata": {},
   "outputs": [
    {
     "data": {
      "text/plain": [
       "5170621    2\n",
       "Name: Id, dtype: int64"
      ]
     },
     "execution_count": 6,
     "metadata": {},
     "output_type": "execute_result"
    }
   ],
   "source": [
    "df['Id'].value_counts()[df['Id'].value_counts() > 1]"
   ]
  },
  {
   "cell_type": "markdown",
   "metadata": {},
   "source": [
    "## New useful features"
   ]
  },
  {
   "cell_type": "code",
   "execution_count": 7,
   "metadata": {},
   "outputs": [],
   "source": [
    "# price per room and price per surface area\n",
    "df['RentPerArea'] = df['Rent'] / df['SurfaceArea']\n",
    "df['RentPerRoom'] = df['Rent'] / df['NumRooms']\n",
    "df['AreaPerRoom'] = df['SurfaceArea'] / df['NumRooms']"
   ]
  },
  {
   "cell_type": "markdown",
   "metadata": {
    "toc-hr-collapsed": false
   },
   "source": [
    "## Outliers"
   ]
  },
  {
   "cell_type": "code",
   "execution_count": 8,
   "metadata": {},
   "outputs": [
    {
     "data": {
      "text/plain": [
       "<matplotlib.axes._subplots.AxesSubplot at 0x7fec04872898>"
      ]
     },
     "execution_count": 8,
     "metadata": {},
     "output_type": "execute_result"
    },
    {
     "data": {
      "image/png": "[encoded data removed]",
      "text/plain": [
       "<Figure size 432x288 with 1 Axes>"
      ]
     },
     "metadata": {},
     "output_type": "display_data"
    }
   ],
   "source": [
    "df.drop('Id', axis = 1).boxplot(rot = 45)"
   ]
  },
  {
   "cell_type": "code",
   "execution_count": 9,
   "metadata": {},
   "outputs": [],
   "source": [
    "def get_whiskers(df, col, WHIS):\n",
    "    des = df.describe()\n",
    "    q1 = des[col]['25%']\n",
    "    q3 = des[col]['75%']\n",
    "    iqr = q3 - q1\n",
    "    return [q1 - WHIS * iqr, q3 + WHIS * iqr]"
   ]
  },
  {
   "cell_type": "markdown",
   "metadata": {},
   "source": [
    "**Surface Area outliers**"
   ]
  },
  {
   "cell_type": "code",
   "execution_count": 10,
   "metadata": {},
   "outputs": [
    {
     "data": {
      "text/plain": [
       "<matplotlib.axes._subplots.AxesSubplot at 0x7febfd959208>"
      ]
     },
     "execution_count": 10,
     "metadata": {},
     "output_type": "execute_result"
    },
    {
     "data": {
      "image/png": "[encoded data removed]",
      "text/plain": [
       "<Figure size 432x288 with 1 Axes>"
      ]
     },
     "metadata": {},
     "output_type": "display_data"
    }
   ],
   "source": [
    "df[['SurfaceArea']].boxplot()"
   ]
  },
  {
   "cell_type": "code",
   "execution_count": 11,
   "metadata": {},
   "outputs": [
    {
     "data": {
      "text/plain": [
       "[-94.0, 226.0]"
      ]
     },
     "execution_count": 11,
     "metadata": {},
     "output_type": "execute_result"
    }
   ],
   "source": [
    "area_whiskers = get_whiskers(df, 'SurfaceArea', WHIS=3.5)  # WHIS value is adjusted based on the manual study of the outliers\n",
    "area_whiskers"
   ]
  },
  {
   "cell_type": "code",
   "execution_count": 12,
   "metadata": {},
   "outputs": [
    {
     "data": {
      "text/plain": [
       "4"
      ]
     },
     "execution_count": 12,
     "metadata": {},
     "output_type": "execute_result"
    }
   ],
   "source": [
    "area_outliers = (df['SurfaceArea'] > area_whiskers[1]) | (df['SurfaceArea'] < area_whiskers[0])\n",
    "area_outliers.sum() # how many area outliers?"
   ]
  },
  {
   "cell_type": "code",
   "execution_count": 13,
   "metadata": {},
   "outputs": [
    {
     "data": {
      "text/html": [
       "<div>\n",
       "<style scoped>\n",
       "    .dataframe tbody tr th:only-of-type {\n",
       "        vertical-align: middle;\n",
       "    }\n",
       "\n",
       "    .dataframe tbody tr th {\n",
       "        vertical-align: top;\n",
       "    }\n",
       "\n",
       "    .dataframe thead th {\n",
       "        text-align: right;\n",
       "    }\n",
       "</style>\n",
       "<table border=\"1\" class=\"dataframe\">\n",
       "  <thead>\n",
       "    <tr style=\"text-align: right;\">\n",
       "      <th></th>\n",
       "      <th>Id</th>\n",
       "      <th>SurfaceArea</th>\n",
       "      <th>NumRooms</th>\n",
       "      <th>Type</th>\n",
       "      <th>Address</th>\n",
       "      <th>Description</th>\n",
       "      <th>Rent</th>\n",
       "      <th>Bookmark</th>\n",
       "      <th>Link</th>\n",
       "      <th>RentPerArea</th>\n",
       "      <th>RentPerRoom</th>\n",
       "      <th>AreaPerRoom</th>\n",
       "    </tr>\n",
       "  </thead>\n",
       "  <tbody>\n",
       "    <tr>\n",
       "      <th>236</th>\n",
       "      <td>5138995</td>\n",
       "      <td>572.0</td>\n",
       "      <td>3.0</td>\n",
       "      <td>flat</td>\n",
       "      <td>Chemin de Contigny 9, 1007 Lausanne, VD</td>\n",
       "      <td>Apartment a Lausanne (3 pieces, renove en 2016)</td>\n",
       "      <td>1560.0</td>\n",
       "      <td>None</td>\n",
       "      <td>en/d/flat-rent-\\nlausanne/5138995?s=2&amp;t=1&amp;l=20...</td>\n",
       "      <td>2.727273</td>\n",
       "      <td>520.000000</td>\n",
       "      <td>190.666667</td>\n",
       "    </tr>\n",
       "    <tr>\n",
       "      <th>558</th>\n",
       "      <td>4984514</td>\n",
       "      <td>423.0</td>\n",
       "      <td>11.0</td>\n",
       "      <td>flat</td>\n",
       "      <td>Chemin de Praz-Buchilly 103, 1000 Lausanne, VD</td>\n",
       "      <td>En bordure de Golf - Luxueux attique avec terr...</td>\n",
       "      <td>9500.0</td>\n",
       "      <td>None</td>\n",
       "      <td>en/d/flat-rent-\\nlausanne/4984514?s=2&amp;t=1&amp;l=20...</td>\n",
       "      <td>22.458629</td>\n",
       "      <td>863.636364</td>\n",
       "      <td>38.454545</td>\n",
       "    </tr>\n",
       "    <tr>\n",
       "      <th>559</th>\n",
       "      <td>5141933</td>\n",
       "      <td>540.0</td>\n",
       "      <td>11.0</td>\n",
       "      <td>flat</td>\n",
       "      <td>1000 Lausanne, VD</td>\n",
       "      <td>Superbe duplex de 11 pièces à louer !</td>\n",
       "      <td>10700.0</td>\n",
       "      <td>None</td>\n",
       "      <td>en/d/flat-rent-\\nlausanne/5141933?s=2&amp;t=1&amp;l=20...</td>\n",
       "      <td>19.814815</td>\n",
       "      <td>972.727273</td>\n",
       "      <td>49.090909</td>\n",
       "    </tr>\n",
       "    <tr>\n",
       "      <th>604</th>\n",
       "      <td>5124217</td>\n",
       "      <td>1000.0</td>\n",
       "      <td>3.0</td>\n",
       "      <td>single-room</td>\n",
       "      <td>foret 4b, 1018 Lausanne, VD</td>\n",
       "      <td>Colocation dans un 3 pieces Lausanne</td>\n",
       "      <td>1000.0</td>\n",
       "      <td>None</td>\n",
       "      <td>en/d/single-room-rent-\\nlausanne/5124217?s=2&amp;t...</td>\n",
       "      <td>1.000000</td>\n",
       "      <td>333.333333</td>\n",
       "      <td>333.333333</td>\n",
       "    </tr>\n",
       "  </tbody>\n",
       "</table>\n",
       "</div>"
      ],
      "text/plain": [
       "          Id  SurfaceArea  NumRooms         Type  \\\n",
       "236  5138995        572.0       3.0         flat   \n",
       "558  4984514        423.0      11.0         flat   \n",
       "559  5141933        540.0      11.0         flat   \n",
       "604  5124217       1000.0       3.0  single-room   \n",
       "\n",
       "                                            Address  \\\n",
       "236         Chemin de Contigny 9, 1007 Lausanne, VD   \n",
       "558  Chemin de Praz-Buchilly 103, 1000 Lausanne, VD   \n",
       "559                               1000 Lausanne, VD   \n",
       "604                     foret 4b, 1018 Lausanne, VD   \n",
       "\n",
       "                                           Description     Rent Bookmark  \\\n",
       "236    Apartment a Lausanne (3 pieces, renove en 2016)   1560.0     None   \n",
       "558  En bordure de Golf - Luxueux attique avec terr...   9500.0     None   \n",
       "559              Superbe duplex de 11 pièces à louer !  10700.0     None   \n",
       "604               Colocation dans un 3 pieces Lausanne   1000.0     None   \n",
       "\n",
       "                                                  Link  RentPerArea  \\\n",
       "236  en/d/flat-rent-\\nlausanne/5138995?s=2&t=1&l=20...     2.727273   \n",
       "558  en/d/flat-rent-\\nlausanne/4984514?s=2&t=1&l=20...    22.458629   \n",
       "559  en/d/flat-rent-\\nlausanne/5141933?s=2&t=1&l=20...    19.814815   \n",
       "604  en/d/single-room-rent-\\nlausanne/5124217?s=2&t...     1.000000   \n",
       "\n",
       "     RentPerRoom  AreaPerRoom  \n",
       "236   520.000000   190.666667  \n",
       "558   863.636364    38.454545  \n",
       "559   972.727273    49.090909  \n",
       "604   333.333333   333.333333  "
      ]
     },
     "execution_count": 13,
     "metadata": {},
     "output_type": "execute_result"
    }
   ],
   "source": [
    "df[area_outliers]"
   ]
  },
  {
   "cell_type": "markdown",
   "metadata": {},
   "source": [
    "Looking at the above data, it looks like that we can capture the outliers by RentPerArea rather than area itself. "
   ]
  },
  {
   "cell_type": "markdown",
   "metadata": {},
   "source": [
    "**Rent per Area Outliers**:"
   ]
  },
  {
   "cell_type": "code",
   "execution_count": 14,
   "metadata": {},
   "outputs": [
    {
     "data": {
      "text/plain": [
       "[12.174152387691478, 45.420450292326834]"
      ]
     },
     "execution_count": 14,
     "metadata": {},
     "output_type": "execute_result"
    }
   ],
   "source": [
    "rentPerArea_whiskers = get_whiskers(df, 'RentPerArea', WHIS=1.5)\n",
    "rentPerArea_whiskers"
   ]
  },
  {
   "cell_type": "markdown",
   "metadata": {},
   "source": [
    "I adjust these values manually, as it seems that having a price greater than ~45 is not unusual for rooms for example. "
   ]
  },
  {
   "cell_type": "code",
   "execution_count": 15,
   "metadata": {},
   "outputs": [],
   "source": [
    "# manual adjustment\n",
    "rentPerArea_whiskers = [15, 80]"
   ]
  },
  {
   "cell_type": "code",
   "execution_count": 19,
   "metadata": {},
   "outputs": [
    {
     "name": "stdout",
     "output_type": "stream",
     "text": [
      "29\n"
     ]
    },
    {
     "data": {
      "text/html": [
       "<div>\n",
       "<style scoped>\n",
       "    .dataframe tbody tr th:only-of-type {\n",
       "        vertical-align: middle;\n",
       "    }\n",
       "\n",
       "    .dataframe tbody tr th {\n",
       "        vertical-align: top;\n",
       "    }\n",
       "\n",
       "    .dataframe thead th {\n",
       "        text-align: right;\n",
       "    }\n",
       "</style>\n",
       "<table border=\"1\" class=\"dataframe\">\n",
       "  <thead>\n",
       "    <tr style=\"text-align: right;\">\n",
       "      <th></th>\n",
       "      <th>Id</th>\n",
       "      <th>SurfaceArea</th>\n",
       "      <th>NumRooms</th>\n",
       "      <th>Type</th>\n",
       "      <th>Address</th>\n",
       "      <th>Description</th>\n",
       "      <th>Rent</th>\n",
       "      <th>Bookmark</th>\n",
       "      <th>Link</th>\n",
       "      <th>RentPerArea</th>\n",
       "      <th>RentPerRoom</th>\n",
       "      <th>AreaPerRoom</th>\n",
       "    </tr>\n",
       "  </thead>\n",
       "  <tbody>\n",
       "    <tr>\n",
       "      <th>22</th>\n",
       "      <td>5169889</td>\n",
       "      <td>104.0</td>\n",
       "      <td>4.5</td>\n",
       "      <td>flat</td>\n",
       "      <td>1005 Lausanne, VD</td>\n",
       "      <td>Location appartement meublé à Lausanne-Pully p...</td>\n",
       "      <td>1430.0</td>\n",
       "      <td>None</td>\n",
       "      <td>en/d/flat-rent-\\nlausanne/5169889?s=2&amp;t=1&amp;l=20...</td>\n",
       "      <td>13.750000</td>\n",
       "      <td>317.777778</td>\n",
       "      <td>23.111111</td>\n",
       "    </tr>\n",
       "    <tr>\n",
       "      <th>62</th>\n",
       "      <td>5096775</td>\n",
       "      <td>50.0</td>\n",
       "      <td>1.0</td>\n",
       "      <td>penthouse</td>\n",
       "      <td>1007 Lausanne, VD</td>\n",
       "      <td>Sous location du 20 au 28 octobre SEULEMENT</td>\n",
       "      <td>400.0</td>\n",
       "      <td>None</td>\n",
       "      <td>en/d/penthouse-rent-\\nlausanne/5096775?s=2&amp;t=1...</td>\n",
       "      <td>8.000000</td>\n",
       "      <td>400.000000</td>\n",
       "      <td>50.000000</td>\n",
       "    </tr>\n",
       "    <tr>\n",
       "      <th>63</th>\n",
       "      <td>5180893</td>\n",
       "      <td>48.0</td>\n",
       "      <td>2.0</td>\n",
       "      <td>flat</td>\n",
       "      <td>Ch. de la Forêt 1, 1018 Lausanne, VD</td>\n",
       "      <td>Appartement Subventionné 2 pièces, 48m2</td>\n",
       "      <td>626.0</td>\n",
       "      <td>New</td>\n",
       "      <td>en/d/flat-rent-\\nlausanne/5180893?s=2&amp;t=1&amp;l=20...</td>\n",
       "      <td>13.041667</td>\n",
       "      <td>313.000000</td>\n",
       "      <td>24.000000</td>\n",
       "    </tr>\n",
       "    <tr>\n",
       "      <th>64</th>\n",
       "      <td>5170719</td>\n",
       "      <td>60.0</td>\n",
       "      <td>3.0</td>\n",
       "      <td>single-room</td>\n",
       "      <td>1004, 1004 Lausanne, VD</td>\n",
       "      <td>Une grande chambre libre sous-location 1.oct 7...</td>\n",
       "      <td>700.0</td>\n",
       "      <td>None</td>\n",
       "      <td>en/d/single-room-rent-\\nlausanne/5170719?s=2&amp;t...</td>\n",
       "      <td>11.666667</td>\n",
       "      <td>233.333333</td>\n",
       "      <td>20.000000</td>\n",
       "    </tr>\n",
       "    <tr>\n",
       "      <th>70</th>\n",
       "      <td>5169368</td>\n",
       "      <td>76.0</td>\n",
       "      <td>3.0</td>\n",
       "      <td>single-room</td>\n",
       "      <td>Av. de Tivoli 30, 1007 Lausanne, VD</td>\n",
       "      <td>Chambre 11 m2 dans collocation à Tivoli, Lausa...</td>\n",
       "      <td>762.0</td>\n",
       "      <td>None</td>\n",
       "      <td>en/d/single-room-rent-\\nlausanne/5169368?s=2&amp;t...</td>\n",
       "      <td>10.026316</td>\n",
       "      <td>254.000000</td>\n",
       "      <td>25.333333</td>\n",
       "    </tr>\n",
       "  </tbody>\n",
       "</table>\n",
       "</div>"
      ],
      "text/plain": [
       "         Id  SurfaceArea  NumRooms         Type  \\\n",
       "22  5169889        104.0       4.5         flat   \n",
       "62  5096775         50.0       1.0    penthouse   \n",
       "63  5180893         48.0       2.0         flat   \n",
       "64  5170719         60.0       3.0  single-room   \n",
       "70  5169368         76.0       3.0  single-room   \n",
       "\n",
       "                                 Address  \\\n",
       "22                     1005 Lausanne, VD   \n",
       "62                     1007 Lausanne, VD   \n",
       "63  Ch. de la Forêt 1, 1018 Lausanne, VD   \n",
       "64               1004, 1004 Lausanne, VD   \n",
       "70   Av. de Tivoli 30, 1007 Lausanne, VD   \n",
       "\n",
       "                                          Description    Rent Bookmark  \\\n",
       "22  Location appartement meublé à Lausanne-Pully p...  1430.0     None   \n",
       "62        Sous location du 20 au 28 octobre SEULEMENT   400.0     None   \n",
       "63            Appartement Subventionné 2 pièces, 48m2   626.0      New   \n",
       "64  Une grande chambre libre sous-location 1.oct 7...   700.0     None   \n",
       "70  Chambre 11 m2 dans collocation à Tivoli, Lausa...   762.0     None   \n",
       "\n",
       "                                                 Link  RentPerArea  \\\n",
       "22  en/d/flat-rent-\\nlausanne/5169889?s=2&t=1&l=20...    13.750000   \n",
       "62  en/d/penthouse-rent-\\nlausanne/5096775?s=2&t=1...     8.000000   \n",
       "63  en/d/flat-rent-\\nlausanne/5180893?s=2&t=1&l=20...    13.041667   \n",
       "64  en/d/single-room-rent-\\nlausanne/5170719?s=2&t...    11.666667   \n",
       "70  en/d/single-room-rent-\\nlausanne/5169368?s=2&t...    10.026316   \n",
       "\n",
       "    RentPerRoom  AreaPerRoom  \n",
       "22   317.777778    23.111111  \n",
       "62   400.000000    50.000000  \n",
       "63   313.000000    24.000000  \n",
       "64   233.333333    20.000000  \n",
       "70   254.000000    25.333333  "
      ]
     },
     "execution_count": 19,
     "metadata": {},
     "output_type": "execute_result"
    }
   ],
   "source": [
    "rentPerArea_outliers = (df['RentPerArea'] > rentPerArea_whiskers[1]) | (df['RentPerArea'] < rentPerArea_whiskers[0])\n",
    "print(rentPerArea_outliers.sum())\n",
    "df[rentPerArea_outliers].head()"
   ]
  },
  {
   "cell_type": "markdown",
   "metadata": {},
   "source": [
    "### What are the sources of outliers? "
   ]
  },
  {
   "cell_type": "markdown",
   "metadata": {},
   "source": [
    "The source of outliers here is mostely human mistake. Either numbers are entered in wrong fields or the price is for a week (from the description for example) or the price is for a room but total number of rooms is entered. Have a look at the examples below:"
   ]
  },
  {
   "cell_type": "code",
   "execution_count": 20,
   "metadata": {},
   "outputs": [
    {
     "data": {
      "text/plain": [
       "'Logement vacances : appartement 2p à louer 800.-/semaine'"
      ]
     },
     "execution_count": 20,
     "metadata": {},
     "output_type": "execute_result"
    }
   ],
   "source": [
    "df['Description'][74]"
   ]
  },
  {
   "cell_type": "code",
   "execution_count": 21,
   "metadata": {},
   "outputs": [
    {
     "data": {
      "text/plain": [
       "'Cherche un(e) colocataire sur Lausanne - superbe appartement'"
      ]
     },
     "execution_count": 21,
     "metadata": {},
     "output_type": "execute_result"
    }
   ],
   "source": [
    "df['Description'][635]"
   ]
  },
  {
   "cell_type": "markdown",
   "metadata": {},
   "source": [
    "We will be removing the outliers, that appeared above; manually checking, most of them involve some sort of human error. We could make this removal of outliers more accurate, for instance by looking at the description field and looking for phrases such as \"per room\" or \"per week\" (in English or French, for example). "
   ]
  },
  {
   "cell_type": "markdown",
   "metadata": {},
   "source": [
    "### Remove outliers"
   ]
  },
  {
   "cell_type": "code",
   "execution_count": 22,
   "metadata": {},
   "outputs": [],
   "source": [
    "# Remove Rent per Area outliers\n",
    "df = df.drop(df[rentPerArea_outliers].index).reset_index()"
   ]
  },
  {
   "cell_type": "code",
   "execution_count": 23,
   "metadata": {},
   "outputs": [
    {
     "data": {
      "text/plain": [
       "<matplotlib.collections.PathCollection at 0x7febfd6db710>"
      ]
     },
     "execution_count": 23,
     "metadata": {},
     "output_type": "execute_result"
    },
    {
     "data": {
      "image/png": "[encoded data removed]",
      "text/plain": [
       "<Figure size 432x288 with 1 Axes>"
      ]
     },
     "metadata": {},
     "output_type": "display_data"
    }
   ],
   "source": [
    "plt.scatter(x = df['RentPerArea'], y = df['Rent'])"
   ]
  },
  {
   "cell_type": "code",
   "execution_count": 24,
   "metadata": {},
   "outputs": [],
   "source": [
    "#df.drop((df[(df['RentPerArea'] > 2000)].index), axis = 0, inplace=True)\n",
    "\n",
    "#df.reset_index(inplace=True)"
   ]
  },
  {
   "cell_type": "markdown",
   "metadata": {},
   "source": [
    "## Some statistical info"
   ]
  },
  {
   "cell_type": "code",
   "execution_count": 25,
   "metadata": {},
   "outputs": [
    {
     "data": {
      "text/html": [
       "<div>\n",
       "<style scoped>\n",
       "    .dataframe tbody tr th:only-of-type {\n",
       "        vertical-align: middle;\n",
       "    }\n",
       "\n",
       "    .dataframe tbody tr th {\n",
       "        vertical-align: top;\n",
       "    }\n",
       "\n",
       "    .dataframe thead th {\n",
       "        text-align: right;\n",
       "    }\n",
       "</style>\n",
       "<table border=\"1\" class=\"dataframe\">\n",
       "  <thead>\n",
       "    <tr style=\"text-align: right;\">\n",
       "      <th></th>\n",
       "      <th>index</th>\n",
       "      <th>Id</th>\n",
       "      <th>SurfaceArea</th>\n",
       "      <th>NumRooms</th>\n",
       "      <th>Rent</th>\n",
       "      <th>RentPerArea</th>\n",
       "      <th>RentPerRoom</th>\n",
       "      <th>AreaPerRoom</th>\n",
       "    </tr>\n",
       "  </thead>\n",
       "  <tbody>\n",
       "    <tr>\n",
       "      <th>count</th>\n",
       "      <td>814.000000</td>\n",
       "      <td>8.140000e+02</td>\n",
       "      <td>718.000000</td>\n",
       "      <td>814.000000</td>\n",
       "      <td>804.000000</td>\n",
       "      <td>709.000000</td>\n",
       "      <td>804.000000</td>\n",
       "      <td>718.000000</td>\n",
       "    </tr>\n",
       "    <tr>\n",
       "      <th>mean</th>\n",
       "      <td>422.858722</td>\n",
       "      <td>5.079693e+06</td>\n",
       "      <td>69.488858</td>\n",
       "      <td>2.705160</td>\n",
       "      <td>1917.101990</td>\n",
       "      <td>30.615453</td>\n",
       "      <td>770.999043</td>\n",
       "      <td>26.524333</td>\n",
       "    </tr>\n",
       "    <tr>\n",
       "      <th>std</th>\n",
       "      <td>243.243036</td>\n",
       "      <td>2.164614e+05</td>\n",
       "      <td>40.270518</td>\n",
       "      <td>1.280586</td>\n",
       "      <td>957.381064</td>\n",
       "      <td>9.162784</td>\n",
       "      <td>333.688591</td>\n",
       "      <td>12.105472</td>\n",
       "    </tr>\n",
       "    <tr>\n",
       "      <th>min</th>\n",
       "      <td>0.000000</td>\n",
       "      <td>1.806661e+06</td>\n",
       "      <td>8.000000</td>\n",
       "      <td>1.000000</td>\n",
       "      <td>1.000000</td>\n",
       "      <td>15.000000</td>\n",
       "      <td>0.500000</td>\n",
       "      <td>2.857143</td>\n",
       "    </tr>\n",
       "    <tr>\n",
       "      <th>25%</th>\n",
       "      <td>214.250000</td>\n",
       "      <td>5.079133e+06</td>\n",
       "      <td>45.000000</td>\n",
       "      <td>2.000000</td>\n",
       "      <td>1357.500000</td>\n",
       "      <td>25.263158</td>\n",
       "      <td>583.214286</td>\n",
       "      <td>21.428571</td>\n",
       "    </tr>\n",
       "    <tr>\n",
       "      <th>50%</th>\n",
       "      <td>420.500000</td>\n",
       "      <td>5.141456e+06</td>\n",
       "      <td>65.000000</td>\n",
       "      <td>2.500000</td>\n",
       "      <td>1720.000000</td>\n",
       "      <td>28.692308</td>\n",
       "      <td>697.464286</td>\n",
       "      <td>24.253968</td>\n",
       "    </tr>\n",
       "    <tr>\n",
       "      <th>75%</th>\n",
       "      <td>637.750000</td>\n",
       "      <td>5.163374e+06</td>\n",
       "      <td>86.000000</td>\n",
       "      <td>3.500000</td>\n",
       "      <td>2296.250000</td>\n",
       "      <td>33.214286</td>\n",
       "      <td>875.000000</td>\n",
       "      <td>28.000000</td>\n",
       "    </tr>\n",
       "    <tr>\n",
       "      <th>max</th>\n",
       "      <td>842.000000</td>\n",
       "      <td>5.181160e+06</td>\n",
       "      <td>540.000000</td>\n",
       "      <td>11.000000</td>\n",
       "      <td>10700.000000</td>\n",
       "      <td>72.281250</td>\n",
       "      <td>3990.000000</td>\n",
       "      <td>180.000000</td>\n",
       "    </tr>\n",
       "  </tbody>\n",
       "</table>\n",
       "</div>"
      ],
      "text/plain": [
       "            index            Id  SurfaceArea    NumRooms          Rent  \\\n",
       "count  814.000000  8.140000e+02   718.000000  814.000000    804.000000   \n",
       "mean   422.858722  5.079693e+06    69.488858    2.705160   1917.101990   \n",
       "std    243.243036  2.164614e+05    40.270518    1.280586    957.381064   \n",
       "min      0.000000  1.806661e+06     8.000000    1.000000      1.000000   \n",
       "25%    214.250000  5.079133e+06    45.000000    2.000000   1357.500000   \n",
       "50%    420.500000  5.141456e+06    65.000000    2.500000   1720.000000   \n",
       "75%    637.750000  5.163374e+06    86.000000    3.500000   2296.250000   \n",
       "max    842.000000  5.181160e+06   540.000000   11.000000  10700.000000   \n",
       "\n",
       "       RentPerArea  RentPerRoom  AreaPerRoom  \n",
       "count   709.000000   804.000000   718.000000  \n",
       "mean     30.615453   770.999043    26.524333  \n",
       "std       9.162784   333.688591    12.105472  \n",
       "min      15.000000     0.500000     2.857143  \n",
       "25%      25.263158   583.214286    21.428571  \n",
       "50%      28.692308   697.464286    24.253968  \n",
       "75%      33.214286   875.000000    28.000000  \n",
       "max      72.281250  3990.000000   180.000000  "
      ]
     },
     "execution_count": 25,
     "metadata": {},
     "output_type": "execute_result"
    }
   ],
   "source": [
    "stats = df.describe()\n",
    "stats"
   ]
  },
  {
   "cell_type": "code",
   "execution_count": 26,
   "metadata": {},
   "outputs": [
    {
     "data": {
      "text/plain": [
       "1917.1019900497513"
      ]
     },
     "execution_count": 26,
     "metadata": {},
     "output_type": "execute_result"
    }
   ],
   "source": [
    "stats['Rent']['mean']"
   ]
  },
  {
   "cell_type": "code",
   "execution_count": 27,
   "metadata": {},
   "outputs": [
    {
     "data": {
      "text/plain": [
       "count      804.000000\n",
       "mean      1917.101990\n",
       "std        957.381064\n",
       "min          1.000000\n",
       "25%       1357.500000\n",
       "50%       1720.000000\n",
       "75%       2296.250000\n",
       "max      10700.000000\n",
       "Name: Rent, dtype: float64"
      ]
     },
     "execution_count": 27,
     "metadata": {},
     "output_type": "execute_result"
    }
   ],
   "source": [
    "stats.Rent"
   ]
  },
  {
   "cell_type": "code",
   "execution_count": 28,
   "metadata": {},
   "outputs": [
    {
     "name": "stdout",
     "output_type": "stream",
     "text": [
      "The mean rental price in Lausanne is 1917.1 CHF per month.\n"
     ]
    }
   ],
   "source": [
    "print(\"The mean rental price in {} is {:0.5} CHF per month.\".format(CITY_NAME.capitalize(), stats['Rent']['mean']))"
   ]
  },
  {
   "cell_type": "code",
   "execution_count": 29,
   "metadata": {},
   "outputs": [
    {
     "name": "stdout",
     "output_type": "stream",
     "text": [
      "The mean rental price per room in Lausanne is 771.0 CHF per month.\n"
     ]
    }
   ],
   "source": [
    "print(\"The mean rental price per room in {} is {:0.5} CHF per month.\".format(CITY_NAME.capitalize(), stats['RentPerRoom']['mean']))"
   ]
  },
  {
   "cell_type": "code",
   "execution_count": 30,
   "metadata": {},
   "outputs": [
    {
     "name": "stdout",
     "output_type": "stream",
     "text": [
      "The mean rental price per meter square in Lausanne is 30.615 CHF per month.\n"
     ]
    }
   ],
   "source": [
    "print(\"The mean rental price per meter square in {} is {:0.5} CHF per month.\".format(CITY_NAME.capitalize(), stats['RentPerArea']['mean']))"
   ]
  },
  {
   "cell_type": "code",
   "execution_count": null,
   "metadata": {},
   "outputs": [],
   "source": []
  },
  {
   "cell_type": "markdown",
   "metadata": {
    "toc-hr-collapsed": false
   },
   "source": [
    "## Rent and Zip Code"
   ]
  },
  {
   "cell_type": "markdown",
   "metadata": {},
   "source": [
    "### Extract Zip Code from Address"
   ]
  },
  {
   "cell_type": "code",
   "execution_count": 31,
   "metadata": {},
   "outputs": [],
   "source": [
    "CITY_NAME_C = CITY_NAME.capitalize()"
   ]
  },
  {
   "cell_type": "code",
   "execution_count": 32,
   "metadata": {},
   "outputs": [],
   "source": [
    "def Extract_zip_code(address):\n",
    "    n = len(address)\n",
    "    l = len(\"Lausanne, VD\")\n",
    "    return int(address[-l - 5: - l -1])"
   ]
  },
  {
   "cell_type": "code",
   "execution_count": 33,
   "metadata": {},
   "outputs": [
    {
     "data": {
      "text/plain": [
       "Int64Index([337], dtype='int64')"
      ]
     },
     "execution_count": 33,
     "metadata": {},
     "output_type": "execute_result"
    }
   ],
   "source": [
    "(df[df['Id'].index == 337]).index"
   ]
  },
  {
   "cell_type": "code",
   "execution_count": 34,
   "metadata": {},
   "outputs": [],
   "source": [
    "for i in range(0, df.shape[0]):\n",
    "    address = df['Address'][i]\n",
    "    Extract_zip_code(address)"
   ]
  },
  {
   "cell_type": "code",
   "execution_count": 35,
   "metadata": {},
   "outputs": [],
   "source": [
    "df['ZipCode'] = df['Address'].map(lambda x: Extract_zip_code(x))"
   ]
  },
  {
   "cell_type": "code",
   "execution_count": 36,
   "metadata": {},
   "outputs": [
    {
     "data": {
      "text/html": [
       "<div>\n",
       "<style scoped>\n",
       "    .dataframe tbody tr th:only-of-type {\n",
       "        vertical-align: middle;\n",
       "    }\n",
       "\n",
       "    .dataframe tbody tr th {\n",
       "        vertical-align: top;\n",
       "    }\n",
       "\n",
       "    .dataframe thead th {\n",
       "        text-align: right;\n",
       "    }\n",
       "</style>\n",
       "<table border=\"1\" class=\"dataframe\">\n",
       "  <thead>\n",
       "    <tr style=\"text-align: right;\">\n",
       "      <th></th>\n",
       "      <th>index</th>\n",
       "      <th>Id</th>\n",
       "      <th>SurfaceArea</th>\n",
       "      <th>NumRooms</th>\n",
       "      <th>Type</th>\n",
       "      <th>Address</th>\n",
       "      <th>Description</th>\n",
       "      <th>Rent</th>\n",
       "      <th>Bookmark</th>\n",
       "      <th>Link</th>\n",
       "      <th>RentPerArea</th>\n",
       "      <th>RentPerRoom</th>\n",
       "      <th>AreaPerRoom</th>\n",
       "      <th>ZipCode</th>\n",
       "    </tr>\n",
       "  </thead>\n",
       "  <tbody>\n",
       "    <tr>\n",
       "      <th>0</th>\n",
       "      <td>0</td>\n",
       "      <td>5109473</td>\n",
       "      <td>63.0</td>\n",
       "      <td>3.0</td>\n",
       "      <td>flat</td>\n",
       "      <td>Ch. du Devin 31A, 1012 Lausanne, VD</td>\n",
       "      <td>Appartement de 3 pièces au rez inf. Niv. -2</td>\n",
       "      <td>1490.0</td>\n",
       "      <td>None</td>\n",
       "      <td>en/d/flat-rent-\\nlausanne/5109473?s=2&amp;t=1&amp;l=20...</td>\n",
       "      <td>23.650794</td>\n",
       "      <td>496.666667</td>\n",
       "      <td>21.0</td>\n",
       "      <td>1012</td>\n",
       "    </tr>\n",
       "    <tr>\n",
       "      <th>1</th>\n",
       "      <td>1</td>\n",
       "      <td>4538993</td>\n",
       "      <td>47.0</td>\n",
       "      <td>2.0</td>\n",
       "      <td>flat</td>\n",
       "      <td>Chemin du Devin 31 D, 1012 Lausanne, VD</td>\n",
       "      <td>Appartement de 2 pièces au Niv. -5</td>\n",
       "      <td>1230.0</td>\n",
       "      <td>New</td>\n",
       "      <td>en/d/flat-rent-\\nlausanne/4538993?s=2&amp;t=1&amp;l=20...</td>\n",
       "      <td>26.170213</td>\n",
       "      <td>615.000000</td>\n",
       "      <td>23.5</td>\n",
       "      <td>1012</td>\n",
       "    </tr>\n",
       "  </tbody>\n",
       "</table>\n",
       "</div>"
      ],
      "text/plain": [
       "   index       Id  SurfaceArea  NumRooms  Type  \\\n",
       "0      0  5109473         63.0       3.0  flat   \n",
       "1      1  4538993         47.0       2.0  flat   \n",
       "\n",
       "                                   Address  \\\n",
       "0      Ch. du Devin 31A, 1012 Lausanne, VD   \n",
       "1  Chemin du Devin 31 D, 1012 Lausanne, VD   \n",
       "\n",
       "                                   Description    Rent Bookmark  \\\n",
       "0  Appartement de 3 pièces au rez inf. Niv. -2  1490.0     None   \n",
       "1           Appartement de 2 pièces au Niv. -5  1230.0      New   \n",
       "\n",
       "                                                Link  RentPerArea  \\\n",
       "0  en/d/flat-rent-\\nlausanne/5109473?s=2&t=1&l=20...    23.650794   \n",
       "1  en/d/flat-rent-\\nlausanne/4538993?s=2&t=1&l=20...    26.170213   \n",
       "\n",
       "   RentPerRoom  AreaPerRoom  ZipCode  \n",
       "0   496.666667         21.0     1012  \n",
       "1   615.000000         23.5     1012  "
      ]
     },
     "execution_count": 36,
     "metadata": {},
     "output_type": "execute_result"
    }
   ],
   "source": [
    "df.head(2)"
   ]
  },
  {
   "cell_type": "code",
   "execution_count": 37,
   "metadata": {},
   "outputs": [],
   "source": [
    "zipVsRentMean = df[['ZipCode', 'RentPerArea', 'RentPerRoom', 'AreaPerRoom', 'SurfaceArea']]\\\n",
    "                .groupby(['ZipCode'], as_index = False).mean()"
   ]
  },
  {
   "cell_type": "code",
   "execution_count": 38,
   "metadata": {},
   "outputs": [],
   "source": [
    "zipVsRentCount = df[['ZipCode', 'RentPerArea', 'RentPerRoom', 'AreaPerRoom']].groupby(['ZipCode'], as_index = False).count()"
   ]
  },
  {
   "cell_type": "code",
   "execution_count": 39,
   "metadata": {},
   "outputs": [
    {
     "data": {
      "text/html": [
       "<div>\n",
       "<style scoped>\n",
       "    .dataframe tbody tr th:only-of-type {\n",
       "        vertical-align: middle;\n",
       "    }\n",
       "\n",
       "    .dataframe tbody tr th {\n",
       "        vertical-align: top;\n",
       "    }\n",
       "\n",
       "    .dataframe thead th {\n",
       "        text-align: right;\n",
       "    }\n",
       "</style>\n",
       "<table border=\"1\" class=\"dataframe\">\n",
       "  <thead>\n",
       "    <tr style=\"text-align: right;\">\n",
       "      <th></th>\n",
       "      <th>ZipCode</th>\n",
       "      <th>RentPerArea</th>\n",
       "      <th>RentPerRoom</th>\n",
       "      <th>AreaPerRoom</th>\n",
       "      <th>SurfaceArea</th>\n",
       "    </tr>\n",
       "  </thead>\n",
       "  <tbody>\n",
       "    <tr>\n",
       "      <th>0</th>\n",
       "      <td>1000</td>\n",
       "      <td>28.142748</td>\n",
       "      <td>764.911846</td>\n",
       "      <td>27.661212</td>\n",
       "      <td>153.500000</td>\n",
       "    </tr>\n",
       "    <tr>\n",
       "      <th>1</th>\n",
       "      <td>1003</td>\n",
       "      <td>34.224370</td>\n",
       "      <td>991.907961</td>\n",
       "      <td>30.819269</td>\n",
       "      <td>78.926471</td>\n",
       "    </tr>\n",
       "    <tr>\n",
       "      <th>2</th>\n",
       "      <td>1004</td>\n",
       "      <td>29.194720</td>\n",
       "      <td>717.545759</td>\n",
       "      <td>25.997881</td>\n",
       "      <td>69.063492</td>\n",
       "    </tr>\n",
       "    <tr>\n",
       "      <th>3</th>\n",
       "      <td>1005</td>\n",
       "      <td>29.667280</td>\n",
       "      <td>743.246468</td>\n",
       "      <td>25.231655</td>\n",
       "      <td>74.863636</td>\n",
       "    </tr>\n",
       "    <tr>\n",
       "      <th>4</th>\n",
       "      <td>1006</td>\n",
       "      <td>33.037358</td>\n",
       "      <td>809.693705</td>\n",
       "      <td>26.715268</td>\n",
       "      <td>60.169231</td>\n",
       "    </tr>\n",
       "    <tr>\n",
       "      <th>5</th>\n",
       "      <td>1007</td>\n",
       "      <td>32.617429</td>\n",
       "      <td>799.282293</td>\n",
       "      <td>26.785694</td>\n",
       "      <td>60.912500</td>\n",
       "    </tr>\n",
       "    <tr>\n",
       "      <th>6</th>\n",
       "      <td>1010</td>\n",
       "      <td>28.675953</td>\n",
       "      <td>735.334807</td>\n",
       "      <td>26.639470</td>\n",
       "      <td>78.866667</td>\n",
       "    </tr>\n",
       "    <tr>\n",
       "      <th>7</th>\n",
       "      <td>1012</td>\n",
       "      <td>31.128687</td>\n",
       "      <td>828.476992</td>\n",
       "      <td>27.414220</td>\n",
       "      <td>71.382716</td>\n",
       "    </tr>\n",
       "    <tr>\n",
       "      <th>8</th>\n",
       "      <td>1015</td>\n",
       "      <td>NaN</td>\n",
       "      <td>650.000000</td>\n",
       "      <td>NaN</td>\n",
       "      <td>NaN</td>\n",
       "    </tr>\n",
       "    <tr>\n",
       "      <th>9</th>\n",
       "      <td>1018</td>\n",
       "      <td>29.259452</td>\n",
       "      <td>679.349340</td>\n",
       "      <td>24.191839</td>\n",
       "      <td>57.565657</td>\n",
       "    </tr>\n",
       "  </tbody>\n",
       "</table>\n",
       "</div>"
      ],
      "text/plain": [
       "   ZipCode  RentPerArea  RentPerRoom  AreaPerRoom  SurfaceArea\n",
       "0     1000    28.142748   764.911846    27.661212   153.500000\n",
       "1     1003    34.224370   991.907961    30.819269    78.926471\n",
       "2     1004    29.194720   717.545759    25.997881    69.063492\n",
       "3     1005    29.667280   743.246468    25.231655    74.863636\n",
       "4     1006    33.037358   809.693705    26.715268    60.169231\n",
       "5     1007    32.617429   799.282293    26.785694    60.912500\n",
       "6     1010    28.675953   735.334807    26.639470    78.866667\n",
       "7     1012    31.128687   828.476992    27.414220    71.382716\n",
       "8     1015          NaN   650.000000          NaN          NaN\n",
       "9     1018    29.259452   679.349340    24.191839    57.565657"
      ]
     },
     "execution_count": 39,
     "metadata": {},
     "output_type": "execute_result"
    }
   ],
   "source": [
    "zipVsRentMean"
   ]
  },
  {
   "cell_type": "code",
   "execution_count": 40,
   "metadata": {},
   "outputs": [],
   "source": [
    "import seaborn as sns"
   ]
  },
  {
   "cell_type": "code",
   "execution_count": 41,
   "metadata": {},
   "outputs": [],
   "source": [
    "dftmp = df[(df['ZipCode'] != 1000) & (df['ZipCode'] != 1015)]"
   ]
  },
  {
   "cell_type": "code",
   "execution_count": 42,
   "metadata": {},
   "outputs": [
    {
     "data": {
      "image/png": "[encoded data removed]",
      "text/plain": [
       "<Figure size 864x720 with 4 Axes>"
      ]
     },
     "metadata": {},
     "output_type": "display_data"
    }
   ],
   "source": [
    "f, ax = plt.subplots(2, 2, figsize = (12, 10))\n",
    "plt.subplot(2, 2, 1)\n",
    "sns.barplot(x = 'ZipCode', y = 'RentPerRoom', data = dftmp)\n",
    "plt.subplot(2, 2, 2)\n",
    "sns.barplot(x = 'ZipCode', y = 'AreaPerRoom', data = dftmp)\n",
    "plt.subplot(2, 2, 3)\n",
    "sns.barplot(x = 'ZipCode', y = 'RentPerArea', data = dftmp)\n",
    "plt.subplot(2, 2, 4)\n",
    "sns.barplot(x = 'ZipCode', y = 'SurfaceArea', data = dftmp)\n",
    "plt.tight_layout()"
   ]
  },
  {
   "cell_type": "code",
   "execution_count": null,
   "metadata": {},
   "outputs": [],
   "source": []
  }
 ],
 "metadata": {
  "kernelspec": {
   "display_name": "Python 3",
   "language": "python",
   "name": "python3"
  },
  "language_info": {
   "codemirror_mode": {
    "name": "ipython",
    "version": 3
   },
   "file_extension": ".py",
   "mimetype": "text/x-python",
   "name": "python",
   "nbconvert_exporter": "python",
   "pygments_lexer": "ipython3",
   "version": "3.6.5"
  }
 },
 "nbformat": 4,
 "nbformat_minor": 2
}
