{
 "cells": [
  {
   "cell_type": "markdown",
   "metadata": {},
   "source": [
    "# Analysis of the rental data"
   ]
  },
  {
   "cell_type": "markdown",
   "metadata": {},
   "source": [
    "Analysis of the rental data already downloded, parsed, and converted to csv. "
   ]
  },
  {
   "cell_type": "code",
   "execution_count": 1,
   "metadata": {},
   "outputs": [],
   "source": [
    "import pandas as pd\n",
    "from matplotlib import pyplot as plt"
   ]
  },
  {
   "cell_type": "code",
   "execution_count": 2,
   "metadata": {},
   "outputs": [],
   "source": [
    "CITY_NAME = 'lausanne'"
   ]
  },
  {
   "cell_type": "code",
   "execution_count": 3,
   "metadata": {},
   "outputs": [],
   "source": [
    "city_path = '../../rental_list/' + CITY_NAME + '/' \n",
    "all_rental_data_path = city_path + 'all_rental_data'\n",
    "combined_data_path = all_rental_data_path + '/combined/rental_all.csv'\n",
    "df = pd.read_csv(combined_data_path)"
   ]
  },
  {
   "cell_type": "code",
   "execution_count": 4,
   "metadata": {},
   "outputs": [
    {
     "data": {
      "text/html": [
       "<div>\n",
       "<style scoped>\n",
       "    .dataframe tbody tr th:only-of-type {\n",
       "        vertical-align: middle;\n",
       "    }\n",
       "\n",
       "    .dataframe tbody tr th {\n",
       "        vertical-align: top;\n",
       "    }\n",
       "\n",
       "    .dataframe thead th {\n",
       "        text-align: right;\n",
       "    }\n",
       "</style>\n",
       "<table border=\"1\" class=\"dataframe\">\n",
       "  <thead>\n",
       "    <tr style=\"text-align: right;\">\n",
       "      <th></th>\n",
       "      <th>Id</th>\n",
       "      <th>SurfaceArea</th>\n",
       "      <th>NumRooms</th>\n",
       "      <th>Type</th>\n",
       "      <th>Address</th>\n",
       "      <th>Description</th>\n",
       "      <th>Rent</th>\n",
       "      <th>Bookmark</th>\n",
       "      <th>Link</th>\n",
       "    </tr>\n",
       "  </thead>\n",
       "  <tbody>\n",
       "    <tr>\n",
       "      <th>996</th>\n",
       "      <td>5104296</td>\n",
       "      <td>75.0</td>\n",
       "      <td>3.5</td>\n",
       "      <td>flat</td>\n",
       "      <td>Avenue de Sévelin, 1004 Lausanne, VD</td>\n",
       "      <td>Location d’appartement neuf</td>\n",
       "      <td>NaN</td>\n",
       "      <td>None</td>\n",
       "      <td>en/d/flat-rent-\\nlausanne/5104296?s=2&amp;t=1&amp;l=20...</td>\n",
       "    </tr>\n",
       "    <tr>\n",
       "      <th>997</th>\n",
       "      <td>5125689</td>\n",
       "      <td>40.0</td>\n",
       "      <td>2.0</td>\n",
       "      <td>flat</td>\n",
       "      <td>1012 Lausanne, VD</td>\n",
       "      <td>Appartement 2pièces à lausanne 1300.- charges ...</td>\n",
       "      <td>NaN</td>\n",
       "      <td>None</td>\n",
       "      <td>en/d/flat-rent-\\nlausanne/5125689?s=2&amp;t=1&amp;l=20...</td>\n",
       "    </tr>\n",
       "    <tr>\n",
       "      <th>998</th>\n",
       "      <td>5144165</td>\n",
       "      <td>NaN</td>\n",
       "      <td>1.0</td>\n",
       "      <td>studio</td>\n",
       "      <td>Rue Caroline 2 - Enning 3, 1003 Lausanne, VD</td>\n",
       "      <td>Sous location à usage de bureau</td>\n",
       "      <td>NaN</td>\n",
       "      <td>None</td>\n",
       "      <td>en/d/studio-rent-\\nlausanne/5144165?s=2&amp;t=1&amp;l=...</td>\n",
       "    </tr>\n",
       "    <tr>\n",
       "      <th>999</th>\n",
       "      <td>5146045</td>\n",
       "      <td>106.0</td>\n",
       "      <td>3.5</td>\n",
       "      <td>flat</td>\n",
       "      <td>1004 Lausanne, VD</td>\n",
       "      <td>Au centre ville</td>\n",
       "      <td>NaN</td>\n",
       "      <td>None</td>\n",
       "      <td>en/d/flat-rent-\\nlausanne/5146045?s=2&amp;t=1&amp;l=20...</td>\n",
       "    </tr>\n",
       "    <tr>\n",
       "      <th>1000</th>\n",
       "      <td>5159698</td>\n",
       "      <td>28.0</td>\n",
       "      <td>1.0</td>\n",
       "      <td>studio</td>\n",
       "      <td>1018 Lausanne, VD</td>\n",
       "      <td>Studio meublé à louer ecublens</td>\n",
       "      <td>NaN</td>\n",
       "      <td>None</td>\n",
       "      <td>en/d/studio-rent-\\nlausanne/5159698?s=2&amp;t=1&amp;l=...</td>\n",
       "    </tr>\n",
       "  </tbody>\n",
       "</table>\n",
       "</div>"
      ],
      "text/plain": [
       "           Id  SurfaceArea  NumRooms    Type  \\\n",
       "996   5104296         75.0       3.5    flat   \n",
       "997   5125689         40.0       2.0    flat   \n",
       "998   5144165          NaN       1.0  studio   \n",
       "999   5146045        106.0       3.5    flat   \n",
       "1000  5159698         28.0       1.0  studio   \n",
       "\n",
       "                                           Address  \\\n",
       "996           Avenue de Sévelin, 1004 Lausanne, VD   \n",
       "997                              1012 Lausanne, VD   \n",
       "998   Rue Caroline 2 - Enning 3, 1003 Lausanne, VD   \n",
       "999                              1004 Lausanne, VD   \n",
       "1000                             1018 Lausanne, VD   \n",
       "\n",
       "                                            Description  Rent Bookmark  \\\n",
       "996                         Location d’appartement neuf   NaN     None   \n",
       "997   Appartement 2pièces à lausanne 1300.- charges ...   NaN     None   \n",
       "998                     Sous location à usage de bureau   NaN     None   \n",
       "999                                     Au centre ville   NaN     None   \n",
       "1000                     Studio meublé à louer ecublens   NaN     None   \n",
       "\n",
       "                                                   Link  \n",
       "996   en/d/flat-rent-\\nlausanne/5104296?s=2&t=1&l=20...  \n",
       "997   en/d/flat-rent-\\nlausanne/5125689?s=2&t=1&l=20...  \n",
       "998   en/d/studio-rent-\\nlausanne/5144165?s=2&t=1&l=...  \n",
       "999   en/d/flat-rent-\\nlausanne/5146045?s=2&t=1&l=20...  \n",
       "1000  en/d/studio-rent-\\nlausanne/5159698?s=2&t=1&l=...  "
      ]
     },
     "execution_count": 4,
     "metadata": {},
     "output_type": "execute_result"
    }
   ],
   "source": [
    "df.tail()"
   ]
  },
  {
   "cell_type": "code",
   "execution_count": 5,
   "metadata": {},
   "outputs": [
    {
     "data": {
      "text/plain": [
       "5170621    2\n",
       "Name: Id, dtype: int64"
      ]
     },
     "execution_count": 5,
     "metadata": {},
     "output_type": "execute_result"
    }
   ],
   "source": [
    "df['Id'].value_counts()[df['Id'].value_counts() > 1]"
   ]
  },
  {
   "cell_type": "markdown",
   "metadata": {},
   "source": [
    "## New useful features"
   ]
  },
  {
   "cell_type": "code",
   "execution_count": 6,
   "metadata": {},
   "outputs": [],
   "source": [
    "# price per room and price per surface area\n",
    "df['RentPerArea'] = df['Rent'] / df['SurfaceArea']\n",
    "df['RentPerRoom'] = df['Rent'] / df['NumRooms']\n",
    "df['AreaPerRoom'] = df['SurfaceArea'] / df['NumRooms']"
   ]
  },
  {
   "cell_type": "markdown",
   "metadata": {
    "toc-hr-collapsed": false
   },
   "source": [
    "## Outliers"
   ]
  },
  {
   "cell_type": "code",
   "execution_count": 7,
   "metadata": {},
   "outputs": [
    {
     "data": {
      "text/plain": [
       "<matplotlib.axes._subplots.AxesSubplot at 0x7fb7cd767320>"
      ]
     },
     "execution_count": 7,
     "metadata": {},
     "output_type": "execute_result"
    },
    {
     "data": {
      "image/png": "[encoded data removed]",
      "text/plain": [
       "<Figure size 432x288 with 1 Axes>"
      ]
     },
     "metadata": {},
     "output_type": "display_data"
    }
   ],
   "source": [
    "df.drop('Id', axis = 1).boxplot(rot = 45)"
   ]
  },
  {
   "cell_type": "code",
   "execution_count": 8,
   "metadata": {},
   "outputs": [],
   "source": [
    "def get_whiskers(df, col, WHIS):\n",
    "    des = df.describe()\n",
    "    q1 = des[col]['25%']\n",
    "    q3 = des[col]['75%']\n",
    "    iqr = q3 - q1\n",
    "    return [q1 - WHIS * iqr, q3 + WHIS * iqr]"
   ]
  },
  {
   "cell_type": "markdown",
   "metadata": {},
   "source": [
    "**Surface Area outliers**"
   ]
  },
  {
   "cell_type": "code",
   "execution_count": 9,
   "metadata": {},
   "outputs": [
    {
     "data": {
      "text/plain": [
       "<matplotlib.axes._subplots.AxesSubplot at 0x7fb7cd16ae80>"
      ]
     },
     "execution_count": 9,
     "metadata": {},
     "output_type": "execute_result"
    },
    {
     "data": {
      "image/png": "[encoded data removed]",
      "text/plain": [
       "<Figure size 432x288 with 1 Axes>"
      ]
     },
     "metadata": {},
     "output_type": "display_data"
    }
   ],
   "source": [
    "df[['SurfaceArea']].boxplot()"
   ]
  },
  {
   "cell_type": "code",
   "execution_count": 10,
   "metadata": {},
   "outputs": [
    {
     "data": {
      "text/plain": [
       "[-95.125, 226.875]"
      ]
     },
     "execution_count": 10,
     "metadata": {},
     "output_type": "execute_result"
    }
   ],
   "source": [
    "area_whiskers = get_whiskers(df, 'SurfaceArea', WHIS=3.5)  # WHIS value is adjusted based on the manual study of the outliers\n",
    "area_whiskers"
   ]
  },
  {
   "cell_type": "code",
   "execution_count": 11,
   "metadata": {},
   "outputs": [
    {
     "data": {
      "text/plain": [
       "4"
      ]
     },
     "execution_count": 11,
     "metadata": {},
     "output_type": "execute_result"
    }
   ],
   "source": [
    "area_outliers = (df['SurfaceArea'] > area_whiskers[1]) | (df['SurfaceArea'] < area_whiskers[0])\n",
    "area_outliers.sum() # how many area outliers?"
   ]
  },
  {
   "cell_type": "code",
   "execution_count": 12,
   "metadata": {},
   "outputs": [
    {
     "data": {
      "text/html": [
       "<div>\n",
       "<style scoped>\n",
       "    .dataframe tbody tr th:only-of-type {\n",
       "        vertical-align: middle;\n",
       "    }\n",
       "\n",
       "    .dataframe tbody tr th {\n",
       "        vertical-align: top;\n",
       "    }\n",
       "\n",
       "    .dataframe thead th {\n",
       "        text-align: right;\n",
       "    }\n",
       "</style>\n",
       "<table border=\"1\" class=\"dataframe\">\n",
       "  <thead>\n",
       "    <tr style=\"text-align: right;\">\n",
       "      <th></th>\n",
       "      <th>Id</th>\n",
       "      <th>SurfaceArea</th>\n",
       "      <th>NumRooms</th>\n",
       "      <th>Type</th>\n",
       "      <th>Address</th>\n",
       "      <th>Description</th>\n",
       "      <th>Rent</th>\n",
       "      <th>Bookmark</th>\n",
       "      <th>Link</th>\n",
       "      <th>RentPerArea</th>\n",
       "      <th>RentPerRoom</th>\n",
       "      <th>AreaPerRoom</th>\n",
       "    </tr>\n",
       "  </thead>\n",
       "  <tbody>\n",
       "    <tr>\n",
       "      <th>394</th>\n",
       "      <td>5138995</td>\n",
       "      <td>572.0</td>\n",
       "      <td>3.0</td>\n",
       "      <td>flat</td>\n",
       "      <td>Chemin de Contigny 9, 1007 Lausanne, VD</td>\n",
       "      <td>Apartment a Lausanne (3 pieces, renove en 2016)</td>\n",
       "      <td>1560.0</td>\n",
       "      <td>None</td>\n",
       "      <td>en/d/flat-rent-\\nlausanne/5138995?s=2&amp;t=1&amp;l=20...</td>\n",
       "      <td>2.727273</td>\n",
       "      <td>520.000000</td>\n",
       "      <td>190.666667</td>\n",
       "    </tr>\n",
       "    <tr>\n",
       "      <th>716</th>\n",
       "      <td>4984514</td>\n",
       "      <td>423.0</td>\n",
       "      <td>11.0</td>\n",
       "      <td>flat</td>\n",
       "      <td>Chemin de Praz-Buchilly 103, 1000 Lausanne, VD</td>\n",
       "      <td>En bordure de Golf - Luxueux attique avec terr...</td>\n",
       "      <td>9500.0</td>\n",
       "      <td>None</td>\n",
       "      <td>en/d/flat-rent-\\nlausanne/4984514?s=2&amp;t=1&amp;l=20...</td>\n",
       "      <td>22.458629</td>\n",
       "      <td>863.636364</td>\n",
       "      <td>38.454545</td>\n",
       "    </tr>\n",
       "    <tr>\n",
       "      <th>717</th>\n",
       "      <td>5141933</td>\n",
       "      <td>540.0</td>\n",
       "      <td>11.0</td>\n",
       "      <td>flat</td>\n",
       "      <td>1000 Lausanne, VD</td>\n",
       "      <td>Superbe duplex de 11 pièces à louer !</td>\n",
       "      <td>10700.0</td>\n",
       "      <td>None</td>\n",
       "      <td>en/d/flat-rent-\\nlausanne/5141933?s=2&amp;t=1&amp;l=20...</td>\n",
       "      <td>19.814815</td>\n",
       "      <td>972.727273</td>\n",
       "      <td>49.090909</td>\n",
       "    </tr>\n",
       "    <tr>\n",
       "      <th>762</th>\n",
       "      <td>5124217</td>\n",
       "      <td>1000.0</td>\n",
       "      <td>3.0</td>\n",
       "      <td>single-room</td>\n",
       "      <td>foret 4b, 1018 Lausanne, VD</td>\n",
       "      <td>Colocation dans un 3 pieces Lausanne</td>\n",
       "      <td>1000.0</td>\n",
       "      <td>None</td>\n",
       "      <td>en/d/single-room-rent-\\nlausanne/5124217?s=2&amp;t...</td>\n",
       "      <td>1.000000</td>\n",
       "      <td>333.333333</td>\n",
       "      <td>333.333333</td>\n",
       "    </tr>\n",
       "  </tbody>\n",
       "</table>\n",
       "</div>"
      ],
      "text/plain": [
       "          Id  SurfaceArea  NumRooms         Type  \\\n",
       "394  5138995        572.0       3.0         flat   \n",
       "716  4984514        423.0      11.0         flat   \n",
       "717  5141933        540.0      11.0         flat   \n",
       "762  5124217       1000.0       3.0  single-room   \n",
       "\n",
       "                                            Address  \\\n",
       "394         Chemin de Contigny 9, 1007 Lausanne, VD   \n",
       "716  Chemin de Praz-Buchilly 103, 1000 Lausanne, VD   \n",
       "717                               1000 Lausanne, VD   \n",
       "762                     foret 4b, 1018 Lausanne, VD   \n",
       "\n",
       "                                           Description     Rent Bookmark  \\\n",
       "394    Apartment a Lausanne (3 pieces, renove en 2016)   1560.0     None   \n",
       "716  En bordure de Golf - Luxueux attique avec terr...   9500.0     None   \n",
       "717              Superbe duplex de 11 pièces à louer !  10700.0     None   \n",
       "762               Colocation dans un 3 pieces Lausanne   1000.0     None   \n",
       "\n",
       "                                                  Link  RentPerArea  \\\n",
       "394  en/d/flat-rent-\\nlausanne/5138995?s=2&t=1&l=20...     2.727273   \n",
       "716  en/d/flat-rent-\\nlausanne/4984514?s=2&t=1&l=20...    22.458629   \n",
       "717  en/d/flat-rent-\\nlausanne/5141933?s=2&t=1&l=20...    19.814815   \n",
       "762  en/d/single-room-rent-\\nlausanne/5124217?s=2&t...     1.000000   \n",
       "\n",
       "     RentPerRoom  AreaPerRoom  \n",
       "394   520.000000   190.666667  \n",
       "716   863.636364    38.454545  \n",
       "717   972.727273    49.090909  \n",
       "762   333.333333   333.333333  "
      ]
     },
     "execution_count": 12,
     "metadata": {},
     "output_type": "execute_result"
    }
   ],
   "source": [
    "df[area_outliers]"
   ]
  },
  {
   "cell_type": "markdown",
   "metadata": {},
   "source": [
    "Looking at the above data, it looks like that we can capture the outliers by RentPerArea rather than area itself. "
   ]
  },
  {
   "cell_type": "markdown",
   "metadata": {},
   "source": [
    "**Rent per Area Outliers**:"
   ]
  },
  {
   "cell_type": "code",
   "execution_count": 13,
   "metadata": {},
   "outputs": [
    {
     "data": {
      "text/plain": [
       "[12.088045214664676, 45.49378795824181]"
      ]
     },
     "execution_count": 13,
     "metadata": {},
     "output_type": "execute_result"
    }
   ],
   "source": [
    "rentPerArea_whiskers = get_whiskers(df, 'RentPerArea', WHIS=1.5)\n",
    "rentPerArea_whiskers"
   ]
  },
  {
   "cell_type": "markdown",
   "metadata": {},
   "source": [
    "I adjust these values manually, as it seems that having a price greater than ~45 is not unusual for rooms for example. "
   ]
  },
  {
   "cell_type": "code",
   "execution_count": 14,
   "metadata": {},
   "outputs": [],
   "source": [
    "# manual adjustment\n",
    "rentPerArea_whiskers = [15, 80]"
   ]
  },
  {
   "cell_type": "code",
   "execution_count": 15,
   "metadata": {},
   "outputs": [
    {
     "name": "stdout",
     "output_type": "stream",
     "text": [
      "38\n"
     ]
    },
    {
     "data": {
      "text/html": [
       "<div>\n",
       "<style scoped>\n",
       "    .dataframe tbody tr th:only-of-type {\n",
       "        vertical-align: middle;\n",
       "    }\n",
       "\n",
       "    .dataframe tbody tr th {\n",
       "        vertical-align: top;\n",
       "    }\n",
       "\n",
       "    .dataframe thead th {\n",
       "        text-align: right;\n",
       "    }\n",
       "</style>\n",
       "<table border=\"1\" class=\"dataframe\">\n",
       "  <thead>\n",
       "    <tr style=\"text-align: right;\">\n",
       "      <th></th>\n",
       "      <th>Id</th>\n",
       "      <th>SurfaceArea</th>\n",
       "      <th>NumRooms</th>\n",
       "      <th>Type</th>\n",
       "      <th>Address</th>\n",
       "      <th>Description</th>\n",
       "      <th>Rent</th>\n",
       "      <th>Bookmark</th>\n",
       "      <th>Link</th>\n",
       "      <th>RentPerArea</th>\n",
       "      <th>RentPerRoom</th>\n",
       "      <th>AreaPerRoom</th>\n",
       "    </tr>\n",
       "  </thead>\n",
       "  <tbody>\n",
       "    <tr>\n",
       "      <th>60</th>\n",
       "      <td>5192788</td>\n",
       "      <td>60.0</td>\n",
       "      <td>2.5</td>\n",
       "      <td>single-room</td>\n",
       "      <td>0754128612, 1018 Lausanne, VD</td>\n",
       "      <td>Chambre à louer 10m2</td>\n",
       "      <td>500.0</td>\n",
       "      <td>New</td>\n",
       "      <td>/en/d/single-room-rent-lausanne/5192788?s=2&amp;t=...</td>\n",
       "      <td>8.333333</td>\n",
       "      <td>200.0</td>\n",
       "      <td>24.0</td>\n",
       "    </tr>\n",
       "    <tr>\n",
       "      <th>67</th>\n",
       "      <td>5189465</td>\n",
       "      <td>90.0</td>\n",
       "      <td>NaN</td>\n",
       "      <td>flat</td>\n",
       "      <td>1004 Lausanne, VD</td>\n",
       "      <td>Jolie chambre à louer à Lausanne</td>\n",
       "      <td>800.0</td>\n",
       "      <td>NaN</td>\n",
       "      <td>/en/d/flat-rent-lausanne/5189465?s=2&amp;t=1&amp;l=202...</td>\n",
       "      <td>8.888889</td>\n",
       "      <td>NaN</td>\n",
       "      <td>NaN</td>\n",
       "    </tr>\n",
       "    <tr>\n",
       "      <th>68</th>\n",
       "      <td>5182648</td>\n",
       "      <td>65.0</td>\n",
       "      <td>NaN</td>\n",
       "      <td>single-room</td>\n",
       "      <td>1007 Lausanne, VD</td>\n",
       "      <td>Chambre à louer 850CHF</td>\n",
       "      <td>850.0</td>\n",
       "      <td>NaN</td>\n",
       "      <td>/en/d/single-room-rent-lausanne/5182648?s=2&amp;t=...</td>\n",
       "      <td>13.076923</td>\n",
       "      <td>NaN</td>\n",
       "      <td>NaN</td>\n",
       "    </tr>\n",
       "    <tr>\n",
       "      <th>72</th>\n",
       "      <td>5187951</td>\n",
       "      <td>90.0</td>\n",
       "      <td>NaN</td>\n",
       "      <td>single-room</td>\n",
       "      <td>Rte de la Clochatte 10A, 1018 Lausanne, VDClos...</td>\n",
       "      <td>Chambre à louerCherche colocataire/trice fun p...</td>\n",
       "      <td>900.0</td>\n",
       "      <td>## «Cherche colocataire/trice fun pour appart ...</td>\n",
       "      <td>/en/d/single-room-rent-lausanne/5187951?s=2&amp;t=...</td>\n",
       "      <td>10.000000</td>\n",
       "      <td>NaN</td>\n",
       "      <td>NaN</td>\n",
       "    </tr>\n",
       "    <tr>\n",
       "      <th>74</th>\n",
       "      <td>5192845</td>\n",
       "      <td>70.0</td>\n",
       "      <td>2.0</td>\n",
       "      <td>flat</td>\n",
       "      <td>1012 Lausanne, VD</td>\n",
       "      <td>Chambre à louer au centre ville de lausanne (1...</td>\n",
       "      <td>950.0</td>\n",
       "      <td>New</td>\n",
       "      <td>/en/d/flat-rent-1005 lausanne)»lausanne/519284...</td>\n",
       "      <td>13.571429</td>\n",
       "      <td>475.0</td>\n",
       "      <td>35.0</td>\n",
       "    </tr>\n",
       "  </tbody>\n",
       "</table>\n",
       "</div>"
      ],
      "text/plain": [
       "         Id  SurfaceArea  NumRooms         Type  \\\n",
       "60  5192788         60.0       2.5  single-room   \n",
       "67  5189465         90.0       NaN         flat   \n",
       "68  5182648         65.0       NaN  single-room   \n",
       "72  5187951         90.0       NaN  single-room   \n",
       "74  5192845         70.0       2.0         flat   \n",
       "\n",
       "                                              Address  \\\n",
       "60                      0754128612, 1018 Lausanne, VD   \n",
       "67                                  1004 Lausanne, VD   \n",
       "68                                  1007 Lausanne, VD   \n",
       "72  Rte de la Clochatte 10A, 1018 Lausanne, VDClos...   \n",
       "74                                  1012 Lausanne, VD   \n",
       "\n",
       "                                          Description   Rent  \\\n",
       "60                               Chambre à louer 10m2  500.0   \n",
       "67                   Jolie chambre à louer à Lausanne  800.0   \n",
       "68                             Chambre à louer 850CHF  850.0   \n",
       "72  Chambre à louerCherche colocataire/trice fun p...  900.0   \n",
       "74  Chambre à louer au centre ville de lausanne (1...  950.0   \n",
       "\n",
       "                                             Bookmark  \\\n",
       "60                                                New   \n",
       "67                                                NaN   \n",
       "68                                                NaN   \n",
       "72  ## «Cherche colocataire/trice fun pour appart ...   \n",
       "74                                                New   \n",
       "\n",
       "                                                 Link  RentPerArea  \\\n",
       "60  /en/d/single-room-rent-lausanne/5192788?s=2&t=...     8.333333   \n",
       "67  /en/d/flat-rent-lausanne/5189465?s=2&t=1&l=202...     8.888889   \n",
       "68  /en/d/single-room-rent-lausanne/5182648?s=2&t=...    13.076923   \n",
       "72  /en/d/single-room-rent-lausanne/5187951?s=2&t=...    10.000000   \n",
       "74  /en/d/flat-rent-1005 lausanne)»lausanne/519284...    13.571429   \n",
       "\n",
       "    RentPerRoom  AreaPerRoom  \n",
       "60        200.0         24.0  \n",
       "67          NaN          NaN  \n",
       "68          NaN          NaN  \n",
       "72          NaN          NaN  \n",
       "74        475.0         35.0  "
      ]
     },
     "execution_count": 15,
     "metadata": {},
     "output_type": "execute_result"
    }
   ],
   "source": [
    "rentPerArea_outliers = (df['RentPerArea'] > rentPerArea_whiskers[1]) | (df['RentPerArea'] < rentPerArea_whiskers[0])\n",
    "print(rentPerArea_outliers.sum())\n",
    "df[rentPerArea_outliers].head()"
   ]
  },
  {
   "cell_type": "markdown",
   "metadata": {},
   "source": [
    "### What are the sources of outliers? "
   ]
  },
  {
   "cell_type": "markdown",
   "metadata": {},
   "source": [
    "The source of outliers here is mostely human mistake. Either numbers are entered in wrong fields or the price is for a week (from the description for example) or the price is for a room but total number of rooms is entered. Have a look at the examples below:"
   ]
  },
  {
   "cell_type": "code",
   "execution_count": 16,
   "metadata": {},
   "outputs": [
    {
     "data": {
      "text/plain": [
       "'Chambre à louer au centre ville de lausanne (1005 lausanne)'"
      ]
     },
     "execution_count": 16,
     "metadata": {},
     "output_type": "execute_result"
    }
   ],
   "source": [
    "df['Description'][74]"
   ]
  },
  {
   "cell_type": "code",
   "execution_count": 17,
   "metadata": {},
   "outputs": [
    {
     "data": {
      "text/plain": [
       "'Idéal pour famille, faites de ce 4.5 pièces votre chez-vous!'"
      ]
     },
     "execution_count": 17,
     "metadata": {},
     "output_type": "execute_result"
    }
   ],
   "source": [
    "df['Description'][635]"
   ]
  },
  {
   "cell_type": "markdown",
   "metadata": {},
   "source": [
    "We will be removing the outliers, that appeared above; manually checking, most of them involve some sort of human error. We could make this removal of outliers more accurate, for instance by looking at the description field and looking for phrases such as \"per room\" or \"per week\" (in English or French, for example). "
   ]
  },
  {
   "cell_type": "markdown",
   "metadata": {},
   "source": [
    "### Remove outliers"
   ]
  },
  {
   "cell_type": "code",
   "execution_count": 18,
   "metadata": {},
   "outputs": [],
   "source": [
    "# Remove Rent per Area outliers\n",
    "df = df.drop(df[rentPerArea_outliers].index).reset_index()"
   ]
  },
  {
   "cell_type": "code",
   "execution_count": 19,
   "metadata": {},
   "outputs": [
    {
     "data": {
      "text/plain": [
       "<matplotlib.collections.PathCollection at 0x7fb7c612ff60>"
      ]
     },
     "execution_count": 19,
     "metadata": {},
     "output_type": "execute_result"
    },
    {
     "data": {
      "image/png": "[encoded data removed]",
      "text/plain": [
       "<Figure size 432x288 with 1 Axes>"
      ]
     },
     "metadata": {},
     "output_type": "display_data"
    }
   ],
   "source": [
    "plt.scatter(x = df['RentPerArea'], y = df['Rent'])"
   ]
  },
  {
   "cell_type": "code",
   "execution_count": 20,
   "metadata": {},
   "outputs": [],
   "source": [
    "#df.drop((df[(df['RentPerArea'] > 2000)].index), axis = 0, inplace=True)\n",
    "\n",
    "#df.reset_index(inplace=True)"
   ]
  },
  {
   "cell_type": "markdown",
   "metadata": {},
   "source": [
    "## Some statistical info"
   ]
  },
  {
   "cell_type": "code",
   "execution_count": 21,
   "metadata": {},
   "outputs": [
    {
     "data": {
      "text/html": [
       "<div>\n",
       "<style scoped>\n",
       "    .dataframe tbody tr th:only-of-type {\n",
       "        vertical-align: middle;\n",
       "    }\n",
       "\n",
       "    .dataframe tbody tr th {\n",
       "        vertical-align: top;\n",
       "    }\n",
       "\n",
       "    .dataframe thead th {\n",
       "        text-align: right;\n",
       "    }\n",
       "</style>\n",
       "<table border=\"1\" class=\"dataframe\">\n",
       "  <thead>\n",
       "    <tr style=\"text-align: right;\">\n",
       "      <th></th>\n",
       "      <th>index</th>\n",
       "      <th>Id</th>\n",
       "      <th>SurfaceArea</th>\n",
       "      <th>NumRooms</th>\n",
       "      <th>Rent</th>\n",
       "      <th>RentPerArea</th>\n",
       "      <th>RentPerRoom</th>\n",
       "      <th>AreaPerRoom</th>\n",
       "    </tr>\n",
       "  </thead>\n",
       "  <tbody>\n",
       "    <tr>\n",
       "      <th>count</th>\n",
       "      <td>963.000000</td>\n",
       "      <td>9.630000e+02</td>\n",
       "      <td>846.000000</td>\n",
       "      <td>932.000000</td>\n",
       "      <td>952.000000</td>\n",
       "      <td>837.000000</td>\n",
       "      <td>922.000000</td>\n",
       "      <td>821.000000</td>\n",
       "    </tr>\n",
       "    <tr>\n",
       "      <th>mean</th>\n",
       "      <td>503.044652</td>\n",
       "      <td>5.094833e+06</td>\n",
       "      <td>68.043735</td>\n",
       "      <td>2.729077</td>\n",
       "      <td>1880.243697</td>\n",
       "      <td>30.636424</td>\n",
       "      <td>756.376113</td>\n",
       "      <td>26.168847</td>\n",
       "    </tr>\n",
       "    <tr>\n",
       "      <th>std</th>\n",
       "      <td>288.876883</td>\n",
       "      <td>2.034082e+05</td>\n",
       "      <td>38.761528</td>\n",
       "      <td>1.242741</td>\n",
       "      <td>927.399409</td>\n",
       "      <td>9.128938</td>\n",
       "      <td>321.283741</td>\n",
       "      <td>11.466871</td>\n",
       "    </tr>\n",
       "    <tr>\n",
       "      <th>min</th>\n",
       "      <td>0.000000</td>\n",
       "      <td>1.806661e+06</td>\n",
       "      <td>8.000000</td>\n",
       "      <td>1.000000</td>\n",
       "      <td>1.000000</td>\n",
       "      <td>15.000000</td>\n",
       "      <td>0.500000</td>\n",
       "      <td>2.857143</td>\n",
       "    </tr>\n",
       "    <tr>\n",
       "      <th>25%</th>\n",
       "      <td>258.500000</td>\n",
       "      <td>5.104314e+06</td>\n",
       "      <td>45.000000</td>\n",
       "      <td>2.000000</td>\n",
       "      <td>1330.000000</td>\n",
       "      <td>25.333333</td>\n",
       "      <td>576.666667</td>\n",
       "      <td>21.333333</td>\n",
       "    </tr>\n",
       "    <tr>\n",
       "      <th>50%</th>\n",
       "      <td>504.000000</td>\n",
       "      <td>5.148760e+06</td>\n",
       "      <td>63.000000</td>\n",
       "      <td>2.500000</td>\n",
       "      <td>1696.500000</td>\n",
       "      <td>28.676471</td>\n",
       "      <td>680.000000</td>\n",
       "      <td>24.000000</td>\n",
       "    </tr>\n",
       "    <tr>\n",
       "      <th>75%</th>\n",
       "      <td>753.000000</td>\n",
       "      <td>5.173666e+06</td>\n",
       "      <td>85.000000</td>\n",
       "      <td>3.500000</td>\n",
       "      <td>2241.250000</td>\n",
       "      <td>33.269231</td>\n",
       "      <td>859.285714</td>\n",
       "      <td>28.000000</td>\n",
       "    </tr>\n",
       "    <tr>\n",
       "      <th>max</th>\n",
       "      <td>1000.000000</td>\n",
       "      <td>5.194735e+06</td>\n",
       "      <td>540.000000</td>\n",
       "      <td>11.000000</td>\n",
       "      <td>10700.000000</td>\n",
       "      <td>75.000000</td>\n",
       "      <td>3990.000000</td>\n",
       "      <td>180.000000</td>\n",
       "    </tr>\n",
       "  </tbody>\n",
       "</table>\n",
       "</div>"
      ],
      "text/plain": [
       "             index            Id  SurfaceArea    NumRooms          Rent  \\\n",
       "count   963.000000  9.630000e+02   846.000000  932.000000    952.000000   \n",
       "mean    503.044652  5.094833e+06    68.043735    2.729077   1880.243697   \n",
       "std     288.876883  2.034082e+05    38.761528    1.242741    927.399409   \n",
       "min       0.000000  1.806661e+06     8.000000    1.000000      1.000000   \n",
       "25%     258.500000  5.104314e+06    45.000000    2.000000   1330.000000   \n",
       "50%     504.000000  5.148760e+06    63.000000    2.500000   1696.500000   \n",
       "75%     753.000000  5.173666e+06    85.000000    3.500000   2241.250000   \n",
       "max    1000.000000  5.194735e+06   540.000000   11.000000  10700.000000   \n",
       "\n",
       "       RentPerArea  RentPerRoom  AreaPerRoom  \n",
       "count   837.000000   922.000000   821.000000  \n",
       "mean     30.636424   756.376113    26.168847  \n",
       "std       9.128938   321.283741    11.466871  \n",
       "min      15.000000     0.500000     2.857143  \n",
       "25%      25.333333   576.666667    21.333333  \n",
       "50%      28.676471   680.000000    24.000000  \n",
       "75%      33.269231   859.285714    28.000000  \n",
       "max      75.000000  3990.000000   180.000000  "
      ]
     },
     "execution_count": 21,
     "metadata": {},
     "output_type": "execute_result"
    }
   ],
   "source": [
    "stats = df.describe()\n",
    "stats"
   ]
  },
  {
   "cell_type": "code",
   "execution_count": 22,
   "metadata": {},
   "outputs": [
    {
     "data": {
      "text/plain": [
       "1880.2436974789916"
      ]
     },
     "execution_count": 22,
     "metadata": {},
     "output_type": "execute_result"
    }
   ],
   "source": [
    "stats['Rent']['mean']"
   ]
  },
  {
   "cell_type": "code",
   "execution_count": 23,
   "metadata": {},
   "outputs": [
    {
     "data": {
      "text/plain": [
       "count      952.000000\n",
       "mean      1880.243697\n",
       "std        927.399409\n",
       "min          1.000000\n",
       "25%       1330.000000\n",
       "50%       1696.500000\n",
       "75%       2241.250000\n",
       "max      10700.000000\n",
       "Name: Rent, dtype: float64"
      ]
     },
     "execution_count": 23,
     "metadata": {},
     "output_type": "execute_result"
    }
   ],
   "source": [
    "stats.Rent"
   ]
  },
  {
   "cell_type": "code",
   "execution_count": 24,
   "metadata": {},
   "outputs": [
    {
     "name": "stdout",
     "output_type": "stream",
     "text": [
      "The mean rental price in Lausanne is 1880.2 CHF per month.\n"
     ]
    }
   ],
   "source": [
    "print(\"The mean rental price in {} is {:0.5} CHF per month.\".format(CITY_NAME.capitalize(), stats['Rent']['mean']))"
   ]
  },
  {
   "cell_type": "code",
   "execution_count": 25,
   "metadata": {},
   "outputs": [
    {
     "name": "stdout",
     "output_type": "stream",
     "text": [
      "The mean rental price per room in Lausanne is 756.38 CHF per month.\n"
     ]
    }
   ],
   "source": [
    "print(\"The mean rental price per room in {} is {:0.5} CHF per month.\".format(CITY_NAME.capitalize(), stats['RentPerRoom']['mean']))"
   ]
  },
  {
   "cell_type": "code",
   "execution_count": 26,
   "metadata": {},
   "outputs": [
    {
     "name": "stdout",
     "output_type": "stream",
     "text": [
      "The mean rental price per meter square in Lausanne is 30.636 CHF per month.\n"
     ]
    }
   ],
   "source": [
    "print(\"The mean rental price per meter square in {} is {:0.5} CHF per month.\".format(CITY_NAME.capitalize(), stats['RentPerArea']['mean']))"
   ]
  },
  {
   "cell_type": "code",
   "execution_count": null,
   "metadata": {},
   "outputs": [],
   "source": []
  },
  {
   "cell_type": "markdown",
   "metadata": {
    "toc-hr-collapsed": false
   },
   "source": [
    "## Rent and Zip Code"
   ]
  },
  {
   "cell_type": "markdown",
   "metadata": {},
   "source": [
    "### Extract Zip Code from Address"
   ]
  },
  {
   "cell_type": "code",
   "execution_count": 27,
   "metadata": {},
   "outputs": [],
   "source": [
    "CITY_NAME_C = CITY_NAME.capitalize()"
   ]
  },
  {
   "cell_type": "code",
   "execution_count": 28,
   "metadata": {},
   "outputs": [],
   "source": [
    "def Extract_zip_code(address):\n",
    "    n = len(address)\n",
    "    l = len(\"Lausanne, VD\")\n",
    "    return int(address[-l - 5: - l -1])"
   ]
  },
  {
   "cell_type": "code",
   "execution_count": 29,
   "metadata": {},
   "outputs": [
    {
     "data": {
      "text/plain": [
       "Int64Index([337], dtype='int64')"
      ]
     },
     "execution_count": 29,
     "metadata": {},
     "output_type": "execute_result"
    }
   ],
   "source": [
    "(df[df['Id'].index == 337]).index"
   ]
  },
  {
   "cell_type": "code",
   "execution_count": 30,
   "metadata": {},
   "outputs": [],
   "source": [
    "for i in range(0, df.shape[0]):\n",
    "    address = df['Address'][i]\n",
    "    Extract_zip_code(address)"
   ]
  },
  {
   "cell_type": "code",
   "execution_count": 31,
   "metadata": {},
   "outputs": [],
   "source": [
    "df['ZipCode'] = df['Address'].map(lambda x: Extract_zip_code(x))"
   ]
  },
  {
   "cell_type": "code",
   "execution_count": 32,
   "metadata": {},
   "outputs": [
    {
     "data": {
      "text/html": [
       "<div>\n",
       "<style scoped>\n",
       "    .dataframe tbody tr th:only-of-type {\n",
       "        vertical-align: middle;\n",
       "    }\n",
       "\n",
       "    .dataframe tbody tr th {\n",
       "        vertical-align: top;\n",
       "    }\n",
       "\n",
       "    .dataframe thead th {\n",
       "        text-align: right;\n",
       "    }\n",
       "</style>\n",
       "<table border=\"1\" class=\"dataframe\">\n",
       "  <thead>\n",
       "    <tr style=\"text-align: right;\">\n",
       "      <th></th>\n",
       "      <th>index</th>\n",
       "      <th>Id</th>\n",
       "      <th>SurfaceArea</th>\n",
       "      <th>NumRooms</th>\n",
       "      <th>Type</th>\n",
       "      <th>Address</th>\n",
       "      <th>Description</th>\n",
       "      <th>Rent</th>\n",
       "      <th>Bookmark</th>\n",
       "      <th>Link</th>\n",
       "      <th>RentPerArea</th>\n",
       "      <th>RentPerRoom</th>\n",
       "      <th>AreaPerRoom</th>\n",
       "      <th>ZipCode</th>\n",
       "    </tr>\n",
       "  </thead>\n",
       "  <tbody>\n",
       "    <tr>\n",
       "      <th>0</th>\n",
       "      <td>0</td>\n",
       "      <td>5188930</td>\n",
       "      <td>95.0</td>\n",
       "      <td>3.5</td>\n",
       "      <td>flat</td>\n",
       "      <td>Rue du Midi 9, 1003 Lausanne, VD</td>\n",
       "      <td>Appartement 3.5 pièces Lausanne avec vue lac</td>\n",
       "      <td>4450.0</td>\n",
       "      <td>New</td>\n",
       "      <td>/en/d/flat-rent-lausanne/5188930?s=2&amp;t=1&amp;l=202...</td>\n",
       "      <td>46.842105</td>\n",
       "      <td>1271.428571</td>\n",
       "      <td>27.142857</td>\n",
       "      <td>1003</td>\n",
       "    </tr>\n",
       "    <tr>\n",
       "      <th>1</th>\n",
       "      <td>1</td>\n",
       "      <td>5193795</td>\n",
       "      <td>NaN</td>\n",
       "      <td>NaN</td>\n",
       "      <td>studio</td>\n",
       "      <td>Chemin de Chissiez 7, 1006 Lausanne, VD</td>\n",
       "      <td>Studio idéalement situé à Lausanne.</td>\n",
       "      <td>720.0</td>\n",
       "      <td>New</td>\n",
       "      <td>/en/d/studio-rent-lausanne/5193795?s=2&amp;t=1&amp;l=2...</td>\n",
       "      <td>NaN</td>\n",
       "      <td>NaN</td>\n",
       "      <td>NaN</td>\n",
       "      <td>1006</td>\n",
       "    </tr>\n",
       "  </tbody>\n",
       "</table>\n",
       "</div>"
      ],
      "text/plain": [
       "   index       Id  SurfaceArea  NumRooms    Type  \\\n",
       "0      0  5188930         95.0       3.5    flat   \n",
       "1      1  5193795          NaN       NaN  studio   \n",
       "\n",
       "                                   Address  \\\n",
       "0         Rue du Midi 9, 1003 Lausanne, VD   \n",
       "1  Chemin de Chissiez 7, 1006 Lausanne, VD   \n",
       "\n",
       "                                    Description    Rent Bookmark  \\\n",
       "0  Appartement 3.5 pièces Lausanne avec vue lac  4450.0      New   \n",
       "1           Studio idéalement situé à Lausanne.   720.0      New   \n",
       "\n",
       "                                                Link  RentPerArea  \\\n",
       "0  /en/d/flat-rent-lausanne/5188930?s=2&t=1&l=202...    46.842105   \n",
       "1  /en/d/studio-rent-lausanne/5193795?s=2&t=1&l=2...          NaN   \n",
       "\n",
       "   RentPerRoom  AreaPerRoom  ZipCode  \n",
       "0  1271.428571    27.142857     1003  \n",
       "1          NaN          NaN     1006  "
      ]
     },
     "execution_count": 32,
     "metadata": {},
     "output_type": "execute_result"
    }
   ],
   "source": [
    "df.head(2)"
   ]
  },
  {
   "cell_type": "code",
   "execution_count": 33,
   "metadata": {},
   "outputs": [],
   "source": [
    "zipVsRentMean = df[['ZipCode', 'RentPerArea', 'RentPerRoom', 'AreaPerRoom', 'SurfaceArea']]\\\n",
    "                .groupby(['ZipCode'], as_index = False).mean()"
   ]
  },
  {
   "cell_type": "code",
   "execution_count": 34,
   "metadata": {},
   "outputs": [],
   "source": [
    "zipVsRentCount = df[['ZipCode', 'RentPerArea', 'RentPerRoom', 'AreaPerRoom']].groupby(['ZipCode'], as_index = False).count()"
   ]
  },
  {
   "cell_type": "code",
   "execution_count": 35,
   "metadata": {},
   "outputs": [
    {
     "data": {
      "text/html": [
       "<div>\n",
       "<style scoped>\n",
       "    .dataframe tbody tr th:only-of-type {\n",
       "        vertical-align: middle;\n",
       "    }\n",
       "\n",
       "    .dataframe tbody tr th {\n",
       "        vertical-align: top;\n",
       "    }\n",
       "\n",
       "    .dataframe thead th {\n",
       "        text-align: right;\n",
       "    }\n",
       "</style>\n",
       "<table border=\"1\" class=\"dataframe\">\n",
       "  <thead>\n",
       "    <tr style=\"text-align: right;\">\n",
       "      <th></th>\n",
       "      <th>ZipCode</th>\n",
       "      <th>RentPerArea</th>\n",
       "      <th>RentPerRoom</th>\n",
       "      <th>AreaPerRoom</th>\n",
       "      <th>SurfaceArea</th>\n",
       "    </tr>\n",
       "  </thead>\n",
       "  <tbody>\n",
       "    <tr>\n",
       "      <th>0</th>\n",
       "      <td>1000</td>\n",
       "      <td>28.330068</td>\n",
       "      <td>746.244089</td>\n",
       "      <td>26.711724</td>\n",
       "      <td>137.916667</td>\n",
       "    </tr>\n",
       "    <tr>\n",
       "      <th>1</th>\n",
       "      <td>1003</td>\n",
       "      <td>34.293312</td>\n",
       "      <td>982.985798</td>\n",
       "      <td>30.431693</td>\n",
       "      <td>78.960526</td>\n",
       "    </tr>\n",
       "    <tr>\n",
       "      <th>2</th>\n",
       "      <td>1004</td>\n",
       "      <td>29.376036</td>\n",
       "      <td>706.633107</td>\n",
       "      <td>25.484670</td>\n",
       "      <td>66.217573</td>\n",
       "    </tr>\n",
       "    <tr>\n",
       "      <th>3</th>\n",
       "      <td>1005</td>\n",
       "      <td>29.771526</td>\n",
       "      <td>717.549115</td>\n",
       "      <td>24.759971</td>\n",
       "      <td>72.230769</td>\n",
       "    </tr>\n",
       "    <tr>\n",
       "      <th>4</th>\n",
       "      <td>1006</td>\n",
       "      <td>33.138026</td>\n",
       "      <td>796.651672</td>\n",
       "      <td>26.519910</td>\n",
       "      <td>59.402597</td>\n",
       "    </tr>\n",
       "    <tr>\n",
       "      <th>5</th>\n",
       "      <td>1007</td>\n",
       "      <td>32.662661</td>\n",
       "      <td>781.276126</td>\n",
       "      <td>26.217638</td>\n",
       "      <td>59.725275</td>\n",
       "    </tr>\n",
       "    <tr>\n",
       "      <th>6</th>\n",
       "      <td>1010</td>\n",
       "      <td>29.250118</td>\n",
       "      <td>735.244557</td>\n",
       "      <td>26.540932</td>\n",
       "      <td>75.971429</td>\n",
       "    </tr>\n",
       "    <tr>\n",
       "      <th>7</th>\n",
       "      <td>1012</td>\n",
       "      <td>30.575095</td>\n",
       "      <td>800.437470</td>\n",
       "      <td>27.239348</td>\n",
       "      <td>72.290323</td>\n",
       "    </tr>\n",
       "    <tr>\n",
       "      <th>8</th>\n",
       "      <td>1015</td>\n",
       "      <td>NaN</td>\n",
       "      <td>650.000000</td>\n",
       "      <td>NaN</td>\n",
       "      <td>NaN</td>\n",
       "    </tr>\n",
       "    <tr>\n",
       "      <th>9</th>\n",
       "      <td>1018</td>\n",
       "      <td>29.193344</td>\n",
       "      <td>674.036497</td>\n",
       "      <td>24.189020</td>\n",
       "      <td>58.172727</td>\n",
       "    </tr>\n",
       "  </tbody>\n",
       "</table>\n",
       "</div>"
      ],
      "text/plain": [
       "   ZipCode  RentPerArea  RentPerRoom  AreaPerRoom  SurfaceArea\n",
       "0     1000    28.330068   746.244089    26.711724   137.916667\n",
       "1     1003    34.293312   982.985798    30.431693    78.960526\n",
       "2     1004    29.376036   706.633107    25.484670    66.217573\n",
       "3     1005    29.771526   717.549115    24.759971    72.230769\n",
       "4     1006    33.138026   796.651672    26.519910    59.402597\n",
       "5     1007    32.662661   781.276126    26.217638    59.725275\n",
       "6     1010    29.250118   735.244557    26.540932    75.971429\n",
       "7     1012    30.575095   800.437470    27.239348    72.290323\n",
       "8     1015          NaN   650.000000          NaN          NaN\n",
       "9     1018    29.193344   674.036497    24.189020    58.172727"
      ]
     },
     "execution_count": 35,
     "metadata": {},
     "output_type": "execute_result"
    }
   ],
   "source": [
    "zipVsRentMean"
   ]
  },
  {
   "cell_type": "code",
   "execution_count": 36,
   "metadata": {},
   "outputs": [],
   "source": [
    "import seaborn as sns"
   ]
  },
  {
   "cell_type": "code",
   "execution_count": 37,
   "metadata": {},
   "outputs": [],
   "source": [
    "dftmp = df[(df['ZipCode'] != 1000) & (df['ZipCode'] != 1015)]"
   ]
  },
  {
   "cell_type": "code",
   "execution_count": 38,
   "metadata": {},
   "outputs": [
    {
     "data": {
      "image/png": "[encoded data removed]",
      "text/plain": [
       "<Figure size 864x720 with 4 Axes>"
      ]
     },
     "metadata": {},
     "output_type": "display_data"
    }
   ],
   "source": [
    "f, ax = plt.subplots(2, 2, figsize = (12, 10))\n",
    "plt.subplot(2, 2, 1)\n",
    "sns.barplot(x = 'ZipCode', y = 'RentPerRoom', data = dftmp)\n",
    "plt.subplot(2, 2, 2)\n",
    "sns.barplot(x = 'ZipCode', y = 'AreaPerRoom', data = dftmp)\n",
    "plt.subplot(2, 2, 3)\n",
    "sns.barplot(x = 'ZipCode', y = 'RentPerArea', data = dftmp)\n",
    "plt.subplot(2, 2, 4)\n",
    "sns.barplot(x = 'ZipCode', y = 'SurfaceArea', data = dftmp)\n",
    "plt.tight_layout()"
   ]
  },
  {
   "cell_type": "code",
   "execution_count": null,
   "metadata": {},
   "outputs": [],
   "source": []
  }
 ],
 "metadata": {
  "kernelspec": {
   "display_name": "Python 3",
   "language": "python",
   "name": "python3"
  },
  "language_info": {
   "codemirror_mode": {
    "name": "ipython",
    "version": 3
   },
   "file_extension": ".py",
   "mimetype": "text/x-python",
   "name": "python",
   "nbconvert_exporter": "python",
   "pygments_lexer": "ipython3",
   "version": "3.6.5"
  }
 },
 "nbformat": 4,
 "nbformat_minor": 2
}
