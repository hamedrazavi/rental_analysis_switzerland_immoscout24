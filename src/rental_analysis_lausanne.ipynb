{
 "cells": [
  {
   "cell_type": "markdown",
   "metadata": {},
   "source": [
    "## Analysis of the rental data"
   ]
  },
  {
   "cell_type": "markdown",
   "metadata": {},
   "source": [
    "Analysis of the rental data already downloded, parsed, and converted to csv. "
   ]
  },
  {
   "cell_type": "code",
   "execution_count": 1,
   "metadata": {},
   "outputs": [],
   "source": [
    "import pandas as pd\n",
    "from matplotlib import pyplot as plt"
   ]
  },
  {
   "cell_type": "code",
   "execution_count": 36,
   "metadata": {},
   "outputs": [],
   "source": [
    "CITY_NAME = 'lausanne'"
   ]
  },
  {
   "cell_type": "code",
   "execution_count": 2,
   "metadata": {},
   "outputs": [],
   "source": [
    "city_path = '../../rental_list/' + CITY_NAME + '/' \n",
    "all_rental_data_path = city_path + 'all_rental_data'\n",
    "combined_data_path = all_rental_data_path + '/combined/rental_all.csv'\n",
    "df = pd.read_csv(combined_data_path)"
   ]
  },
  {
   "cell_type": "code",
   "execution_count": 17,
   "metadata": {},
   "outputs": [
    {
     "data": {
      "text/html": [
       "<div>\n",
       "<style scoped>\n",
       "    .dataframe tbody tr th:only-of-type {\n",
       "        vertical-align: middle;\n",
       "    }\n",
       "\n",
       "    .dataframe tbody tr th {\n",
       "        vertical-align: top;\n",
       "    }\n",
       "\n",
       "    .dataframe thead th {\n",
       "        text-align: right;\n",
       "    }\n",
       "</style>\n",
       "<table border=\"1\" class=\"dataframe\">\n",
       "  <thead>\n",
       "    <tr style=\"text-align: right;\">\n",
       "      <th></th>\n",
       "      <th>Id</th>\n",
       "      <th>SurfaceArea</th>\n",
       "      <th>NumRooms</th>\n",
       "      <th>Type</th>\n",
       "      <th>Address</th>\n",
       "      <th>Description</th>\n",
       "      <th>Rent</th>\n",
       "      <th>Bookmark</th>\n",
       "      <th>Link</th>\n",
       "    </tr>\n",
       "  </thead>\n",
       "  <tbody>\n",
       "    <tr>\n",
       "      <th>578</th>\n",
       "      <td>5104296</td>\n",
       "      <td>75.0</td>\n",
       "      <td>3.5</td>\n",
       "      <td>flat</td>\n",
       "      <td>Avenue de Sévelin, 1004 Lausanne, VD</td>\n",
       "      <td>Location d’appartement neuf</td>\n",
       "      <td>NaN</td>\n",
       "      <td>None</td>\n",
       "      <td>en/d/flat-rent-\\nlausanne/5104296?s=2&amp;t=1&amp;l=20...</td>\n",
       "    </tr>\n",
       "    <tr>\n",
       "      <th>579</th>\n",
       "      <td>5125689</td>\n",
       "      <td>40.0</td>\n",
       "      <td>2.0</td>\n",
       "      <td>flat</td>\n",
       "      <td>1012 Lausanne, VD</td>\n",
       "      <td>Appartement 2pièces à lausanne 1300.- charges ...</td>\n",
       "      <td>NaN</td>\n",
       "      <td>None</td>\n",
       "      <td>en/d/flat-rent-\\nlausanne/5125689?s=2&amp;t=1&amp;l=20...</td>\n",
       "    </tr>\n",
       "    <tr>\n",
       "      <th>580</th>\n",
       "      <td>5144165</td>\n",
       "      <td>NaN</td>\n",
       "      <td>1.0</td>\n",
       "      <td>studio</td>\n",
       "      <td>Rue Caroline 2 - Enning 3, 1003 Lausanne, VD</td>\n",
       "      <td>Sous location à usage de bureau</td>\n",
       "      <td>NaN</td>\n",
       "      <td>None</td>\n",
       "      <td>en/d/studio-rent-\\nlausanne/5144165?s=2&amp;t=1&amp;l=...</td>\n",
       "    </tr>\n",
       "    <tr>\n",
       "      <th>581</th>\n",
       "      <td>5146045</td>\n",
       "      <td>106.0</td>\n",
       "      <td>3.5</td>\n",
       "      <td>flat</td>\n",
       "      <td>1004 Lausanne, VD</td>\n",
       "      <td>Au centre ville</td>\n",
       "      <td>NaN</td>\n",
       "      <td>None</td>\n",
       "      <td>en/d/flat-rent-\\nlausanne/5146045?s=2&amp;t=1&amp;l=20...</td>\n",
       "    </tr>\n",
       "    <tr>\n",
       "      <th>582</th>\n",
       "      <td>5159698</td>\n",
       "      <td>28.0</td>\n",
       "      <td>1.0</td>\n",
       "      <td>studio</td>\n",
       "      <td>1018 Lausanne, VD</td>\n",
       "      <td>Studio meublé à louer ecublens</td>\n",
       "      <td>NaN</td>\n",
       "      <td>None</td>\n",
       "      <td>en/d/studio-rent-\\nlausanne/5159698?s=2&amp;t=1&amp;l=...</td>\n",
       "    </tr>\n",
       "  </tbody>\n",
       "</table>\n",
       "</div>"
      ],
      "text/plain": [
       "          Id  SurfaceArea  NumRooms    Type  \\\n",
       "578  5104296         75.0       3.5    flat   \n",
       "579  5125689         40.0       2.0    flat   \n",
       "580  5144165          NaN       1.0  studio   \n",
       "581  5146045        106.0       3.5    flat   \n",
       "582  5159698         28.0       1.0  studio   \n",
       "\n",
       "                                          Address  \\\n",
       "578          Avenue de Sévelin, 1004 Lausanne, VD   \n",
       "579                             1012 Lausanne, VD   \n",
       "580  Rue Caroline 2 - Enning 3, 1003 Lausanne, VD   \n",
       "581                             1004 Lausanne, VD   \n",
       "582                             1018 Lausanne, VD   \n",
       "\n",
       "                                           Description  Rent Bookmark  \\\n",
       "578                        Location d’appartement neuf   NaN     None   \n",
       "579  Appartement 2pièces à lausanne 1300.- charges ...   NaN     None   \n",
       "580                    Sous location à usage de bureau   NaN     None   \n",
       "581                                    Au centre ville   NaN     None   \n",
       "582                     Studio meublé à louer ecublens   NaN     None   \n",
       "\n",
       "                                                  Link  \n",
       "578  en/d/flat-rent-\\nlausanne/5104296?s=2&t=1&l=20...  \n",
       "579  en/d/flat-rent-\\nlausanne/5125689?s=2&t=1&l=20...  \n",
       "580  en/d/studio-rent-\\nlausanne/5144165?s=2&t=1&l=...  \n",
       "581  en/d/flat-rent-\\nlausanne/5146045?s=2&t=1&l=20...  \n",
       "582  en/d/studio-rent-\\nlausanne/5159698?s=2&t=1&l=...  "
      ]
     },
     "execution_count": 17,
     "metadata": {},
     "output_type": "execute_result"
    }
   ],
   "source": [
    "df.tail()"
   ]
  },
  {
   "cell_type": "code",
   "execution_count": 8,
   "metadata": {},
   "outputs": [
    {
     "data": {
      "text/plain": [
       "Series([], Name: Id, dtype: int64)"
      ]
     },
     "execution_count": 8,
     "metadata": {},
     "output_type": "execute_result"
    }
   ],
   "source": [
    "df['Id'].value_counts()[df['Id'].value_counts() > 1]"
   ]
  },
  {
   "cell_type": "markdown",
   "metadata": {},
   "source": [
    "## New useful features"
   ]
  },
  {
   "cell_type": "code",
   "execution_count": 149,
   "metadata": {},
   "outputs": [],
   "source": [
    "# price per room and price per surface area\n",
    "df['RentPerArea'] = df['Rent'] / df['SurfaceArea']\n",
    "df['RentPerRoom'] = df['Rent'] / df['NumRooms']\n",
    "df['AreaPerRoom'] = df['SurfaceArea'] / df['NumRooms']"
   ]
  },
  {
   "cell_type": "markdown",
   "metadata": {},
   "source": [
    "## Some statistical info"
   ]
  },
  {
   "cell_type": "code",
   "execution_count": 41,
   "metadata": {},
   "outputs": [
    {
     "data": {
      "text/html": [
       "<div>\n",
       "<style scoped>\n",
       "    .dataframe tbody tr th:only-of-type {\n",
       "        vertical-align: middle;\n",
       "    }\n",
       "\n",
       "    .dataframe tbody tr th {\n",
       "        vertical-align: top;\n",
       "    }\n",
       "\n",
       "    .dataframe thead th {\n",
       "        text-align: right;\n",
       "    }\n",
       "</style>\n",
       "<table border=\"1\" class=\"dataframe\">\n",
       "  <thead>\n",
       "    <tr style=\"text-align: right;\">\n",
       "      <th></th>\n",
       "      <th>Id</th>\n",
       "      <th>SurfaceArea</th>\n",
       "      <th>NumRooms</th>\n",
       "      <th>Rent</th>\n",
       "      <th>RentPerArea</th>\n",
       "      <th>RentPerRoom</th>\n",
       "    </tr>\n",
       "  </thead>\n",
       "  <tbody>\n",
       "    <tr>\n",
       "      <th>count</th>\n",
       "      <td>5.830000e+02</td>\n",
       "      <td>521.000000</td>\n",
       "      <td>583.000000</td>\n",
       "      <td>577.000000</td>\n",
       "      <td>516.000000</td>\n",
       "      <td>577.000000</td>\n",
       "    </tr>\n",
       "    <tr>\n",
       "      <th>mean</th>\n",
       "      <td>5.054047e+06</td>\n",
       "      <td>75.702495</td>\n",
       "      <td>2.842196</td>\n",
       "      <td>2007.807626</td>\n",
       "      <td>35.602925</td>\n",
       "      <td>764.597533</td>\n",
       "    </tr>\n",
       "    <tr>\n",
       "      <th>std</th>\n",
       "      <td>2.361979e+05</td>\n",
       "      <td>59.512844</td>\n",
       "      <td>1.330311</td>\n",
       "      <td>1038.502813</td>\n",
       "      <td>125.839797</td>\n",
       "      <td>307.375522</td>\n",
       "    </tr>\n",
       "    <tr>\n",
       "      <th>min</th>\n",
       "      <td>1.806661e+06</td>\n",
       "      <td>1.000000</td>\n",
       "      <td>1.000000</td>\n",
       "      <td>1.000000</td>\n",
       "      <td>0.013333</td>\n",
       "      <td>0.333333</td>\n",
       "    </tr>\n",
       "    <tr>\n",
       "      <th>25%</th>\n",
       "      <td>5.056375e+06</td>\n",
       "      <td>50.000000</td>\n",
       "      <td>2.000000</td>\n",
       "      <td>1395.000000</td>\n",
       "      <td>25.000000</td>\n",
       "      <td>588.888889</td>\n",
       "    </tr>\n",
       "    <tr>\n",
       "      <th>50%</th>\n",
       "      <td>5.127242e+06</td>\n",
       "      <td>69.000000</td>\n",
       "      <td>3.000000</td>\n",
       "      <td>1815.000000</td>\n",
       "      <td>28.630208</td>\n",
       "      <td>702.222222</td>\n",
       "    </tr>\n",
       "    <tr>\n",
       "      <th>75%</th>\n",
       "      <td>5.147026e+06</td>\n",
       "      <td>90.000000</td>\n",
       "      <td>3.500000</td>\n",
       "      <td>2400.000000</td>\n",
       "      <td>32.932301</td>\n",
       "      <td>880.000000</td>\n",
       "    </tr>\n",
       "    <tr>\n",
       "      <th>max</th>\n",
       "      <td>5.161200e+06</td>\n",
       "      <td>1000.000000</td>\n",
       "      <td>11.000000</td>\n",
       "      <td>10700.000000</td>\n",
       "      <td>2880.000000</td>\n",
       "      <td>2640.000000</td>\n",
       "    </tr>\n",
       "  </tbody>\n",
       "</table>\n",
       "</div>"
      ],
      "text/plain": [
       "                 Id  SurfaceArea    NumRooms          Rent  RentPerArea  \\\n",
       "count  5.830000e+02   521.000000  583.000000    577.000000   516.000000   \n",
       "mean   5.054047e+06    75.702495    2.842196   2007.807626    35.602925   \n",
       "std    2.361979e+05    59.512844    1.330311   1038.502813   125.839797   \n",
       "min    1.806661e+06     1.000000    1.000000      1.000000     0.013333   \n",
       "25%    5.056375e+06    50.000000    2.000000   1395.000000    25.000000   \n",
       "50%    5.127242e+06    69.000000    3.000000   1815.000000    28.630208   \n",
       "75%    5.147026e+06    90.000000    3.500000   2400.000000    32.932301   \n",
       "max    5.161200e+06  1000.000000   11.000000  10700.000000  2880.000000   \n",
       "\n",
       "       RentPerRoom  \n",
       "count   577.000000  \n",
       "mean    764.597533  \n",
       "std     307.375522  \n",
       "min       0.333333  \n",
       "25%     588.888889  \n",
       "50%     702.222222  \n",
       "75%     880.000000  \n",
       "max    2640.000000  "
      ]
     },
     "execution_count": 41,
     "metadata": {},
     "output_type": "execute_result"
    }
   ],
   "source": [
    "stats = df.describe()\n",
    "stats"
   ]
  },
  {
   "cell_type": "code",
   "execution_count": 22,
   "metadata": {},
   "outputs": [
    {
     "data": {
      "text/plain": [
       "2007.8076256499132"
      ]
     },
     "execution_count": 22,
     "metadata": {},
     "output_type": "execute_result"
    }
   ],
   "source": [
    "stats['Rent']['mean']"
   ]
  },
  {
   "cell_type": "code",
   "execution_count": 26,
   "metadata": {},
   "outputs": [
    {
     "data": {
      "text/plain": [
       "2491.7888048629725"
      ]
     },
     "execution_count": 26,
     "metadata": {},
     "output_type": "execute_result"
    }
   ],
   "source": [
    "stats.Rent"
   ]
  },
  {
   "cell_type": "code",
   "execution_count": 62,
   "metadata": {},
   "outputs": [
    {
     "name": "stdout",
     "output_type": "stream",
     "text": [
      "The mean rental price in Lausanne is 2007.8 CHF per month.\n"
     ]
    }
   ],
   "source": [
    "print(\"The mean rental price in {} is {:0.5} CHF per month.\".format(CITY_NAME.capitalize(), stats['Rent']['mean']))"
   ]
  },
  {
   "cell_type": "code",
   "execution_count": 63,
   "metadata": {},
   "outputs": [
    {
     "name": "stdout",
     "output_type": "stream",
     "text": [
      "The mean rental price per room in Lausanne is 764.6 CHF per month.\n"
     ]
    }
   ],
   "source": [
    "print(\"The mean rental price per room in {} is {:0.5} CHF per month.\".format(CITY_NAME.capitalize(), stats['RentPerRoom']['mean']))"
   ]
  },
  {
   "cell_type": "code",
   "execution_count": 64,
   "metadata": {},
   "outputs": [
    {
     "name": "stdout",
     "output_type": "stream",
     "text": [
      "The mean rental price per meter square in Lausanne is 35.603 CHF per month.\n"
     ]
    }
   ],
   "source": [
    "print(\"The mean rental price per meter square in {} is {:0.5} CHF per month.\".format(CITY_NAME.capitalize(), stats['RentPerArea']['mean']))"
   ]
  },
  {
   "cell_type": "markdown",
   "metadata": {},
   "source": [
    "## Outliers"
   ]
  },
  {
   "cell_type": "code",
   "execution_count": 168,
   "metadata": {},
   "outputs": [
    {
     "data": {
      "text/plain": [
       "<matplotlib.collections.PathCollection at 0x7f13c335c898>"
      ]
     },
     "execution_count": 168,
     "metadata": {},
     "output_type": "execute_result"
    },
    {
     "data": {
      "image/png": "[encoded data removed]",
      "text/plain": [
       "<Figure size 432x288 with 1 Axes>"
      ]
     },
     "metadata": {},
     "output_type": "display_data"
    }
   ],
   "source": [
    "plt.scatter(x = df['RentPerArea'], y = df['Rent'])"
   ]
  },
  {
   "cell_type": "code",
   "execution_count": 171,
   "metadata": {},
   "outputs": [
    {
     "data": {
      "text/html": [
       "<div>\n",
       "<style scoped>\n",
       "    .dataframe tbody tr th:only-of-type {\n",
       "        vertical-align: middle;\n",
       "    }\n",
       "\n",
       "    .dataframe tbody tr th {\n",
       "        vertical-align: top;\n",
       "    }\n",
       "\n",
       "    .dataframe thead th {\n",
       "        text-align: right;\n",
       "    }\n",
       "</style>\n",
       "<table border=\"1\" class=\"dataframe\">\n",
       "  <thead>\n",
       "    <tr style=\"text-align: right;\">\n",
       "      <th></th>\n",
       "      <th>Id</th>\n",
       "      <th>SurfaceArea</th>\n",
       "      <th>NumRooms</th>\n",
       "      <th>Type</th>\n",
       "      <th>Address</th>\n",
       "      <th>Description</th>\n",
       "      <th>Rent</th>\n",
       "      <th>Bookmark</th>\n",
       "      <th>Link</th>\n",
       "      <th>RentPerArea</th>\n",
       "      <th>RentPerRoom</th>\n",
       "      <th>ZipCode</th>\n",
       "      <th>AreaPerRoom</th>\n",
       "    </tr>\n",
       "  </thead>\n",
       "  <tbody>\n",
       "  </tbody>\n",
       "</table>\n",
       "</div>"
      ],
      "text/plain": [
       "Empty DataFrame\n",
       "Columns: [Id, SurfaceArea, NumRooms, Type, Address, Description, Rent, Bookmark, Link, RentPerArea, RentPerRoom, ZipCode, AreaPerRoom]\n",
       "Index: []"
      ]
     },
     "execution_count": 171,
     "metadata": {},
     "output_type": "execute_result"
    }
   ],
   "source": [
    "df[df['RentPerArea'] > 2000]"
   ]
  },
  {
   "cell_type": "code",
   "execution_count": null,
   "metadata": {},
   "outputs": [],
   "source": [
    "df.drop((df[df['RentPerArea'] > 2000]).index, inplace = True)"
   ]
  },
  {
   "cell_type": "markdown",
   "metadata": {},
   "source": [
    "### Extract Zip Code from Address"
   ]
  },
  {
   "cell_type": "code",
   "execution_count": 60,
   "metadata": {},
   "outputs": [],
   "source": [
    "CITY_NAME_C = CITY_NAME.capitalize()"
   ]
  },
  {
   "cell_type": "code",
   "execution_count": 115,
   "metadata": {},
   "outputs": [],
   "source": [
    "def Extract_zip_code(address):\n",
    "    n = len(address)\n",
    "    l = len(\"Lausanne, VD\")\n",
    "    return int(address[-l - 5: - l -1])"
   ]
  },
  {
   "cell_type": "code",
   "execution_count": 117,
   "metadata": {},
   "outputs": [],
   "source": [
    "for i in range(0, df.shape[0]):\n",
    "    address = df['Address'][i]\n",
    "    Extract_zip_code(address)"
   ]
  },
  {
   "cell_type": "code",
   "execution_count": 121,
   "metadata": {},
   "outputs": [],
   "source": [
    "df['ZipCode'] = df['Address'].map(lambda x: Extract_zip_code(x))"
   ]
  },
  {
   "cell_type": "code",
   "execution_count": 124,
   "metadata": {},
   "outputs": [
    {
     "data": {
      "text/html": [
       "<div>\n",
       "<style scoped>\n",
       "    .dataframe tbody tr th:only-of-type {\n",
       "        vertical-align: middle;\n",
       "    }\n",
       "\n",
       "    .dataframe tbody tr th {\n",
       "        vertical-align: top;\n",
       "    }\n",
       "\n",
       "    .dataframe thead th {\n",
       "        text-align: right;\n",
       "    }\n",
       "</style>\n",
       "<table border=\"1\" class=\"dataframe\">\n",
       "  <thead>\n",
       "    <tr style=\"text-align: right;\">\n",
       "      <th></th>\n",
       "      <th>Id</th>\n",
       "      <th>SurfaceArea</th>\n",
       "      <th>NumRooms</th>\n",
       "      <th>Type</th>\n",
       "      <th>Address</th>\n",
       "      <th>Description</th>\n",
       "      <th>Rent</th>\n",
       "      <th>Bookmark</th>\n",
       "      <th>Link</th>\n",
       "      <th>RentPerArea</th>\n",
       "      <th>RentPerRoom</th>\n",
       "      <th>ZipCode</th>\n",
       "    </tr>\n",
       "  </thead>\n",
       "  <tbody>\n",
       "    <tr>\n",
       "      <th>0</th>\n",
       "      <td>5154005</td>\n",
       "      <td>50.0</td>\n",
       "      <td>2.5</td>\n",
       "      <td>flat</td>\n",
       "      <td>Chemin de Champrilly 21, 1004 Lausanne, VD</td>\n",
       "      <td>Grand 2 pièces avec balcon</td>\n",
       "      <td>1510.0</td>\n",
       "      <td>None</td>\n",
       "      <td>en/d/flat-rent-\\nlausanne/5154005?s=2&amp;t=1&amp;l=20...</td>\n",
       "      <td>30.200000</td>\n",
       "      <td>604.0</td>\n",
       "      <td>1004</td>\n",
       "    </tr>\n",
       "    <tr>\n",
       "      <th>1</th>\n",
       "      <td>5159207</td>\n",
       "      <td>95.0</td>\n",
       "      <td>4.0</td>\n",
       "      <td>flat</td>\n",
       "      <td>Av. de Morges 39, 1004 Lausanne, VD</td>\n",
       "      <td>Bel appartement de 4 pièces avec balcon</td>\n",
       "      <td>2100.0</td>\n",
       "      <td>None</td>\n",
       "      <td>en/d/flat-rent-\\nlausanne/5159207?s=2&amp;t=1&amp;l=20...</td>\n",
       "      <td>22.105263</td>\n",
       "      <td>525.0</td>\n",
       "      <td>1004</td>\n",
       "    </tr>\n",
       "  </tbody>\n",
       "</table>\n",
       "</div>"
      ],
      "text/plain": [
       "        Id  SurfaceArea  NumRooms  Type  \\\n",
       "0  5154005         50.0       2.5  flat   \n",
       "1  5159207         95.0       4.0  flat   \n",
       "\n",
       "                                      Address  \\\n",
       "0  Chemin de Champrilly 21, 1004 Lausanne, VD   \n",
       "1         Av. de Morges 39, 1004 Lausanne, VD   \n",
       "\n",
       "                               Description    Rent Bookmark  \\\n",
       "0               Grand 2 pièces avec balcon  1510.0     None   \n",
       "1  Bel appartement de 4 pièces avec balcon  2100.0     None   \n",
       "\n",
       "                                                Link  RentPerArea  \\\n",
       "0  en/d/flat-rent-\\nlausanne/5154005?s=2&t=1&l=20...    30.200000   \n",
       "1  en/d/flat-rent-\\nlausanne/5159207?s=2&t=1&l=20...    22.105263   \n",
       "\n",
       "   RentPerRoom  ZipCode  \n",
       "0        604.0     1004  \n",
       "1        525.0     1004  "
      ]
     },
     "execution_count": 124,
     "metadata": {},
     "output_type": "execute_result"
    }
   ],
   "source": [
    "df.head(2)"
   ]
  },
  {
   "cell_type": "markdown",
   "metadata": {},
   "source": [
    "## Rent and Zip Code"
   ]
  },
  {
   "cell_type": "code",
   "execution_count": 182,
   "metadata": {},
   "outputs": [],
   "source": [
    "zipVsRentMean = df[['ZipCode', 'RentPerArea', 'RentPerRoom', 'AreaPerRoom', 'SurfaceArea']]\\\n",
    "                .groupby(['ZipCode'], as_index = False).mean()"
   ]
  },
  {
   "cell_type": "code",
   "execution_count": 175,
   "metadata": {},
   "outputs": [],
   "source": [
    "zipVsRentCount = df[['ZipCode', 'RentPerArea', 'RentPerRoom', 'AreaPerRoom']].groupby(['ZipCode'], as_index = False).count()"
   ]
  },
  {
   "cell_type": "code",
   "execution_count": 185,
   "metadata": {},
   "outputs": [
    {
     "data": {
      "text/html": [
       "<div>\n",
       "<style scoped>\n",
       "    .dataframe tbody tr th:only-of-type {\n",
       "        vertical-align: middle;\n",
       "    }\n",
       "\n",
       "    .dataframe tbody tr th {\n",
       "        vertical-align: top;\n",
       "    }\n",
       "\n",
       "    .dataframe thead th {\n",
       "        text-align: right;\n",
       "    }\n",
       "</style>\n",
       "<table border=\"1\" class=\"dataframe\">\n",
       "  <thead>\n",
       "    <tr style=\"text-align: right;\">\n",
       "      <th></th>\n",
       "      <th>ZipCode</th>\n",
       "      <th>RentPerArea</th>\n",
       "      <th>RentPerRoom</th>\n",
       "      <th>AreaPerRoom</th>\n",
       "      <th>SurfaceArea</th>\n",
       "    </tr>\n",
       "  </thead>\n",
       "  <tbody>\n",
       "    <tr>\n",
       "      <th>0</th>\n",
       "      <td>1000</td>\n",
       "      <td>25.884957</td>\n",
       "      <td>754.892256</td>\n",
       "      <td>29.201515</td>\n",
       "      <td>181.500000</td>\n",
       "    </tr>\n",
       "    <tr>\n",
       "      <th>1</th>\n",
       "      <td>1003</td>\n",
       "      <td>32.951379</td>\n",
       "      <td>982.194325</td>\n",
       "      <td>31.647968</td>\n",
       "      <td>86.640000</td>\n",
       "    </tr>\n",
       "    <tr>\n",
       "      <th>2</th>\n",
       "      <td>1004</td>\n",
       "      <td>28.670993</td>\n",
       "      <td>722.028545</td>\n",
       "      <td>26.283307</td>\n",
       "      <td>72.609023</td>\n",
       "    </tr>\n",
       "    <tr>\n",
       "      <th>3</th>\n",
       "      <td>1005</td>\n",
       "      <td>29.777010</td>\n",
       "      <td>769.201935</td>\n",
       "      <td>25.872742</td>\n",
       "      <td>80.235294</td>\n",
       "    </tr>\n",
       "    <tr>\n",
       "      <th>4</th>\n",
       "      <td>1006</td>\n",
       "      <td>34.260310</td>\n",
       "      <td>827.879586</td>\n",
       "      <td>25.704619</td>\n",
       "      <td>60.976190</td>\n",
       "    </tr>\n",
       "    <tr>\n",
       "      <th>5</th>\n",
       "      <td>1007</td>\n",
       "      <td>33.595169</td>\n",
       "      <td>786.727540</td>\n",
       "      <td>25.157599</td>\n",
       "      <td>61.711538</td>\n",
       "    </tr>\n",
       "    <tr>\n",
       "      <th>6</th>\n",
       "      <td>1010</td>\n",
       "      <td>27.928071</td>\n",
       "      <td>713.744083</td>\n",
       "      <td>27.300609</td>\n",
       "      <td>80.730769</td>\n",
       "    </tr>\n",
       "    <tr>\n",
       "      <th>7</th>\n",
       "      <td>1012</td>\n",
       "      <td>29.591872</td>\n",
       "      <td>787.720564</td>\n",
       "      <td>27.288123</td>\n",
       "      <td>77.092308</td>\n",
       "    </tr>\n",
       "    <tr>\n",
       "      <th>8</th>\n",
       "      <td>1015</td>\n",
       "      <td>NaN</td>\n",
       "      <td>650.000000</td>\n",
       "      <td>NaN</td>\n",
       "      <td>NaN</td>\n",
       "    </tr>\n",
       "    <tr>\n",
       "      <th>9</th>\n",
       "      <td>1018</td>\n",
       "      <td>28.152492</td>\n",
       "      <td>643.406592</td>\n",
       "      <td>28.319237</td>\n",
       "      <td>73.552239</td>\n",
       "    </tr>\n",
       "  </tbody>\n",
       "</table>\n",
       "</div>"
      ],
      "text/plain": [
       "   ZipCode  RentPerArea  RentPerRoom  AreaPerRoom  SurfaceArea\n",
       "0     1000    25.884957   754.892256    29.201515   181.500000\n",
       "1     1003    32.951379   982.194325    31.647968    86.640000\n",
       "2     1004    28.670993   722.028545    26.283307    72.609023\n",
       "3     1005    29.777010   769.201935    25.872742    80.235294\n",
       "4     1006    34.260310   827.879586    25.704619    60.976190\n",
       "5     1007    33.595169   786.727540    25.157599    61.711538\n",
       "6     1010    27.928071   713.744083    27.300609    80.730769\n",
       "7     1012    29.591872   787.720564    27.288123    77.092308\n",
       "8     1015          NaN   650.000000          NaN          NaN\n",
       "9     1018    28.152492   643.406592    28.319237    73.552239"
      ]
     },
     "execution_count": 185,
     "metadata": {},
     "output_type": "execute_result"
    }
   ],
   "source": [
    "zipVsRentMean"
   ]
  },
  {
   "cell_type": "code",
   "execution_count": 144,
   "metadata": {},
   "outputs": [],
   "source": [
    "import seaborn as sns"
   ]
  },
  {
   "cell_type": "code",
   "execution_count": 203,
   "metadata": {},
   "outputs": [],
   "source": [
    "dftmp = df[(df['ZipCode'] != 1000) & (df['ZipCode'] != 1015)]"
   ]
  },
  {
   "cell_type": "code",
   "execution_count": 204,
   "metadata": {},
   "outputs": [
    {
     "data": {
      "image/png": "[encoded data removed]",
      "text/plain": [
       "<Figure size 864x720 with 4 Axes>"
      ]
     },
     "metadata": {},
     "output_type": "display_data"
    }
   ],
   "source": [
    "f, ax = plt.subplots(2, 2, figsize = (12, 10))\n",
    "plt.subplot(2, 2, 1)\n",
    "sns.barplot(x = 'ZipCode', y = 'RentPerRoom', data = dftmp)\n",
    "plt.subplot(2, 2, 2)\n",
    "sns.barplot(x = 'ZipCode', y = 'AreaPerRoom', data = dftmp)\n",
    "plt.subplot(2, 2, 3)\n",
    "sns.barplot(x = 'ZipCode', y = 'RentPerArea', data = dftmp)\n",
    "plt.subplot(2, 2, 4)\n",
    "sns.barplot(x = 'ZipCode', y = 'SurfaceArea', data = dftmp)\n",
    "plt.tight_layout()"
   ]
  },
  {
   "cell_type": "code",
   "execution_count": null,
   "metadata": {},
   "outputs": [],
   "source": []
  }
 ],
 "metadata": {
  "kernelspec": {
   "display_name": "Python 3",
   "language": "python",
   "name": "python3"
  },
  "language_info": {
   "codemirror_mode": {
    "name": "ipython",
    "version": 3
   },
   "file_extension": ".py",
   "mimetype": "text/x-python",
   "name": "python",
   "nbconvert_exporter": "python",
   "pygments_lexer": "ipython3",
   "version": "3.5.2"
  }
 },
 "nbformat": 4,
 "nbformat_minor": 2
}
