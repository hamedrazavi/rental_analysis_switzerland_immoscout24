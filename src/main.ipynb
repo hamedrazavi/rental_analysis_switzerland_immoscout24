{
 "cells": [
  {
   "cell_type": "markdown",
   "metadata": {},
   "source": [
    "# Get the rental data from ImmoScout"
   ]
  },
  {
   "cell_type": "code",
   "execution_count": 7,
   "metadata": {},
   "outputs": [],
   "source": [
    "from ImmoScout import ImmoScout\n",
    "import pandas as pd"
   ]
  },
  {
   "cell_type": "markdown",
   "metadata": {},
   "source": [
    "Instantiate the `ImmoScout` class:"
   ]
  },
  {
   "cell_type": "code",
   "execution_count": 5,
   "metadata": {},
   "outputs": [],
   "source": [
    "lausanne = ImmoScout(city_name='Lausanne', list_type='rent')"
   ]
  },
  {
   "cell_type": "code",
   "execution_count": null,
   "metadata": {},
   "outputs": [],
   "source": [
    "lausanne.to_csv(in_path = '', out_path='../data/lausanne.csv')"
   ]
  },
  {
   "cell_type": "code",
   "execution_count": 8,
   "metadata": {},
   "outputs": [],
   "source": [
    "df = pd.read_csv('../data/lausanne.csv')"
   ]
  },
  {
   "cell_type": "code",
   "execution_count": 12,
   "metadata": {},
   "outputs": [
    {
     "data": {
      "text/html": [
       "<div>\n",
       "<style scoped>\n",
       "    .dataframe tbody tr th:only-of-type {\n",
       "        vertical-align: middle;\n",
       "    }\n",
       "\n",
       "    .dataframe tbody tr th {\n",
       "        vertical-align: top;\n",
       "    }\n",
       "\n",
       "    .dataframe thead th {\n",
       "        text-align: right;\n",
       "    }\n",
       "</style>\n",
       "<table border=\"1\" class=\"dataframe\">\n",
       "  <thead>\n",
       "    <tr style=\"text-align: right;\">\n",
       "      <th></th>\n",
       "      <th>Id</th>\n",
       "      <th>SurfaceArea</th>\n",
       "      <th>NumRooms</th>\n",
       "      <th>Type</th>\n",
       "      <th>Address</th>\n",
       "      <th>Description</th>\n",
       "      <th>Rent</th>\n",
       "      <th>Bookmark</th>\n",
       "      <th>Link</th>\n",
       "    </tr>\n",
       "  </thead>\n",
       "  <tbody>\n",
       "    <tr>\n",
       "      <th>0</th>\n",
       "      <td>5286965.0</td>\n",
       "      <td>52.0</td>\n",
       "      <td>2.5</td>\n",
       "      <td>flat</td>\n",
       "      <td>Route Aloys-Fauquez 124, 1018 Lausanne, VD</td>\n",
       "      <td>Agréable 2 pièces proche de toutes les commodités</td>\n",
       "      <td>1460.0</td>\n",
       "      <td>New</td>\n",
       "      <td>/en/d/flat-rent-lausanne/5286965?s=2&amp;t=1&amp;l=202...</td>\n",
       "    </tr>\n",
       "    <tr>\n",
       "      <th>1</th>\n",
       "      <td>5277530.0</td>\n",
       "      <td>80.0</td>\n",
       "      <td>3.0</td>\n",
       "      <td>flat</td>\n",
       "      <td>Avenue de Béthusy 53, 1012 Lausanne, VD</td>\n",
       "      <td>Proche du centre ville</td>\n",
       "      <td>2100.0</td>\n",
       "      <td>NaN</td>\n",
       "      <td>/en/d/flat-rent-lausanne/5277530?s=2&amp;t=1&amp;l=202...</td>\n",
       "    </tr>\n",
       "    <tr>\n",
       "      <th>2</th>\n",
       "      <td>5249019.0</td>\n",
       "      <td>74.0</td>\n",
       "      <td>3.5</td>\n",
       "      <td>stepped-apartment</td>\n",
       "      <td>Route des Plaines-du-Loup 42, 1018 Lausanne, VD</td>\n",
       "      <td>Magnifique 3,5 pièces avec jardin privé -Immeu...</td>\n",
       "      <td>2150.0</td>\n",
       "      <td>Highlight</td>\n",
       "      <td>/en/d/stepped-apartment-rent-lausanne/5249019?...</td>\n",
       "    </tr>\n",
       "    <tr>\n",
       "      <th>3</th>\n",
       "      <td>5274375.0</td>\n",
       "      <td>108.0</td>\n",
       "      <td>3.5</td>\n",
       "      <td>duplex-maisonette</td>\n",
       "      <td>Route de Prilly 12, 1004 Lausanne, VD</td>\n",
       "      <td>Magnifique logement en duplex entièrement neuf</td>\n",
       "      <td>3160.0</td>\n",
       "      <td>NaN</td>\n",
       "      <td>/en/d/duplex-maisonette-rent-lausanne/5274375?...</td>\n",
       "    </tr>\n",
       "    <tr>\n",
       "      <th>4</th>\n",
       "      <td>5274374.0</td>\n",
       "      <td>80.0</td>\n",
       "      <td>3.5</td>\n",
       "      <td>flat</td>\n",
       "      <td>Route de Prilly 12, 1004 Lausanne, VD</td>\n",
       "      <td>Nouveaux logements</td>\n",
       "      <td>2085.0</td>\n",
       "      <td>NaN</td>\n",
       "      <td>/en/d/flat-rent-lausanne/5274374?s=2&amp;t=1&amp;l=202...</td>\n",
       "    </tr>\n",
       "  </tbody>\n",
       "</table>\n",
       "</div>"
      ],
      "text/plain": [
       "          Id  SurfaceArea  NumRooms               Type  \\\n",
       "0  5286965.0         52.0       2.5               flat   \n",
       "1  5277530.0         80.0       3.0               flat   \n",
       "2  5249019.0         74.0       3.5  stepped-apartment   \n",
       "3  5274375.0        108.0       3.5  duplex-maisonette   \n",
       "4  5274374.0         80.0       3.5               flat   \n",
       "\n",
       "                                           Address  \\\n",
       "0       Route Aloys-Fauquez 124, 1018 Lausanne, VD   \n",
       "1          Avenue de Béthusy 53, 1012 Lausanne, VD   \n",
       "2  Route des Plaines-du-Loup 42, 1018 Lausanne, VD   \n",
       "3            Route de Prilly 12, 1004 Lausanne, VD   \n",
       "4            Route de Prilly 12, 1004 Lausanne, VD   \n",
       "\n",
       "                                         Description    Rent   Bookmark  \\\n",
       "0  Agréable 2 pièces proche de toutes les commodités  1460.0        New   \n",
       "1                             Proche du centre ville  2100.0        NaN   \n",
       "2  Magnifique 3,5 pièces avec jardin privé -Immeu...  2150.0  Highlight   \n",
       "3     Magnifique logement en duplex entièrement neuf  3160.0        NaN   \n",
       "4                                 Nouveaux logements  2085.0        NaN   \n",
       "\n",
       "                                                Link  \n",
       "0  /en/d/flat-rent-lausanne/5286965?s=2&t=1&l=202...  \n",
       "1  /en/d/flat-rent-lausanne/5277530?s=2&t=1&l=202...  \n",
       "2  /en/d/stepped-apartment-rent-lausanne/5249019?...  \n",
       "3  /en/d/duplex-maisonette-rent-lausanne/5274375?...  \n",
       "4  /en/d/flat-rent-lausanne/5274374?s=2&t=1&l=202...  "
      ]
     },
     "execution_count": 12,
     "metadata": {},
     "output_type": "execute_result"
    }
   ],
   "source": [
    "df.head()"
   ]
  }
 ],
 "metadata": {
  "kernelspec": {
   "display_name": "Python 3",
   "language": "python",
   "name": "python3"
  },
  "language_info": {
   "codemirror_mode": {
    "name": "ipython",
    "version": 3
   },
   "file_extension": ".py",
   "mimetype": "text/x-python",
   "name": "python",
   "nbconvert_exporter": "python",
   "pygments_lexer": "ipython3",
   "version": "3.6.5"
  },
  "toc-autonumbering": false
 },
 "nbformat": 4,
 "nbformat_minor": 2
}
