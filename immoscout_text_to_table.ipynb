{
 "cells": [
  {
   "cell_type": "markdown",
   "metadata": {},
   "source": [
    "Convert immoscout html text (which is already saved) to a pandas dataframe. "
   ]
  },
  {
   "cell_type": "code",
   "execution_count": 1,
   "metadata": {},
   "outputs": [],
   "source": [
    "import pandas as pd\n",
    "import numpy as np\n",
    "from SingleAptListing_to_table import SingleAptListing_to_table"
   ]
  },
  {
   "cell_type": "code",
   "execution_count": 2,
   "metadata": {},
   "outputs": [],
   "source": [
    "df = pd.DataFrame()"
   ]
  },
  {
   "cell_type": "code",
   "execution_count": 3,
   "metadata": {},
   "outputs": [],
   "source": [
    "num_pages = 28\n",
    "for i in range(1, num_pages + 1):\n",
    "    text_file = open('../rental_list/lausanne/20180517/page_' + str(i) + '.txt')\n",
    "    c = text_file.read()\n",
    "    end_c_n = c.find(\"Page** \")\n",
    "    c = c[0:end_c_n]\n",
    "    splt_listing = c.split(\"### [\")\n",
    "    for j in range(1, len(splt_listing)):\n",
    "        single_apt_listing = splt_listing[j]\n",
    "        tmdf = SingleAptListing_to_table(single_apt_listing)\n",
    "        df = pd.concat(objs=[df, tmdf], axis = 0).reset_index(drop = True)"
   ]
  },
  {
   "cell_type": "code",
   "execution_count": 4,
   "metadata": {},
   "outputs": [
    {
     "data": {
      "text/html": [
       "<div>\n",
       "<style scoped>\n",
       "    .dataframe tbody tr th:only-of-type {\n",
       "        vertical-align: middle;\n",
       "    }\n",
       "\n",
       "    .dataframe tbody tr th {\n",
       "        vertical-align: top;\n",
       "    }\n",
       "\n",
       "    .dataframe thead th {\n",
       "        text-align: right;\n",
       "    }\n",
       "</style>\n",
       "<table border=\"1\" class=\"dataframe\">\n",
       "  <thead>\n",
       "    <tr style=\"text-align: right;\">\n",
       "      <th></th>\n",
       "      <th>Id</th>\n",
       "      <th>SurfaceArea</th>\n",
       "      <th>NumRooms</th>\n",
       "      <th>Type</th>\n",
       "      <th>Address</th>\n",
       "      <th>Description</th>\n",
       "      <th>Rent</th>\n",
       "      <th>Bookmark</th>\n",
       "      <th>Link</th>\n",
       "    </tr>\n",
       "  </thead>\n",
       "  <tbody>\n",
       "    <tr>\n",
       "      <th>609</th>\n",
       "      <td>4757192</td>\n",
       "      <td>40.0</td>\n",
       "      <td>1.5</td>\n",
       "      <td>flat</td>\n",
       "      <td>Rue Saint Martin, 1005 Lausanne, VD</td>\n",
       "      <td>1.5 pièces méublé Lausanne centre</td>\n",
       "      <td>NaN</td>\n",
       "      <td>None</td>\n",
       "      <td>en/d/flat-rent-\\nlausanne/4757192?s=2&amp;t=1&amp;l=20...</td>\n",
       "    </tr>\n",
       "    <tr>\n",
       "      <th>610</th>\n",
       "      <td>4796165</td>\n",
       "      <td>65.0</td>\n",
       "      <td>3.0</td>\n",
       "      <td>flat</td>\n",
       "      <td>1018 Lausanne, VD</td>\n",
       "      <td>Echange appartement 3 pcs vers rue Pontaise co...</td>\n",
       "      <td>NaN</td>\n",
       "      <td>None</td>\n",
       "      <td>en/d/flat-rent-\\nlausanne/4796165?s=2&amp;t=1&amp;l=20...</td>\n",
       "    </tr>\n",
       "    <tr>\n",
       "      <th>611</th>\n",
       "      <td>4869501</td>\n",
       "      <td>85.0</td>\n",
       "      <td>3.5</td>\n",
       "      <td>flat</td>\n",
       "      <td>1005 Lausanne, VD</td>\n",
       "      <td>Echange appartement 3,5 pièces à Lsne contre 4...</td>\n",
       "      <td>NaN</td>\n",
       "      <td>None</td>\n",
       "      <td>en/d/flat-rent-\\nlausanne/4869501?s=2&amp;t=1&amp;l=20...</td>\n",
       "    </tr>\n",
       "    <tr>\n",
       "      <th>612</th>\n",
       "      <td>4952698</td>\n",
       "      <td>140.0</td>\n",
       "      <td>4.5</td>\n",
       "      <td>flat</td>\n",
       "      <td>Av. de Valmont18, 1010 Lausanne, VD</td>\n",
       "      <td>Chamber louer tu suite</td>\n",
       "      <td>NaN</td>\n",
       "      <td>None</td>\n",
       "      <td>en/d/flat-rent-\\nlausanne/4952698?s=2&amp;t=1&amp;l=20...</td>\n",
       "    </tr>\n",
       "    <tr>\n",
       "      <th>613</th>\n",
       "      <td>4960260</td>\n",
       "      <td>NaN</td>\n",
       "      <td>3.0</td>\n",
       "      <td>flat</td>\n",
       "      <td>1018 Lausanne, VD</td>\n",
       "      <td>Appartement 3 pièces</td>\n",
       "      <td>NaN</td>\n",
       "      <td>None</td>\n",
       "      <td>en/d/flat-rent-\\nlausanne/4960260?s=2&amp;t=1&amp;l=20...</td>\n",
       "    </tr>\n",
       "  </tbody>\n",
       "</table>\n",
       "</div>"
      ],
      "text/plain": [
       "          Id  SurfaceArea  NumRooms  Type  \\\n",
       "609  4757192         40.0       1.5  flat   \n",
       "610  4796165         65.0       3.0  flat   \n",
       "611  4869501         85.0       3.5  flat   \n",
       "612  4952698        140.0       4.5  flat   \n",
       "613  4960260          NaN       3.0  flat   \n",
       "\n",
       "                                 Address  \\\n",
       "609  Rue Saint Martin, 1005 Lausanne, VD   \n",
       "610                    1018 Lausanne, VD   \n",
       "611                    1005 Lausanne, VD   \n",
       "612  Av. de Valmont18, 1010 Lausanne, VD   \n",
       "613                    1018 Lausanne, VD   \n",
       "\n",
       "                                           Description  Rent Bookmark  \\\n",
       "609                  1.5 pièces méublé Lausanne centre   NaN     None   \n",
       "610  Echange appartement 3 pcs vers rue Pontaise co...   NaN     None   \n",
       "611  Echange appartement 3,5 pièces à Lsne contre 4...   NaN     None   \n",
       "612                             Chamber louer tu suite   NaN     None   \n",
       "613                               Appartement 3 pièces   NaN     None   \n",
       "\n",
       "                                                  Link  \n",
       "609  en/d/flat-rent-\\nlausanne/4757192?s=2&t=1&l=20...  \n",
       "610  en/d/flat-rent-\\nlausanne/4796165?s=2&t=1&l=20...  \n",
       "611  en/d/flat-rent-\\nlausanne/4869501?s=2&t=1&l=20...  \n",
       "612  en/d/flat-rent-\\nlausanne/4952698?s=2&t=1&l=20...  \n",
       "613  en/d/flat-rent-\\nlausanne/4960260?s=2&t=1&l=20...  "
      ]
     },
     "execution_count": 4,
     "metadata": {},
     "output_type": "execute_result"
    }
   ],
   "source": [
    "df.tail()"
   ]
  },
  {
   "cell_type": "code",
   "execution_count": 5,
   "metadata": {},
   "outputs": [
    {
     "data": {
      "text/plain": [
       "count     528.000000\n",
       "mean       72.960227\n",
       "std        56.284183\n",
       "min        10.000000\n",
       "25%        42.500000\n",
       "50%        67.000000\n",
       "75%        95.000000\n",
       "max      1004.000000\n",
       "Name: SurfaceArea, dtype: float64"
      ]
     },
     "execution_count": 5,
     "metadata": {},
     "output_type": "execute_result"
    }
   ],
   "source": [
    "df['SurfaceArea'].describe()"
   ]
  },
  {
   "cell_type": "code",
   "execution_count": 6,
   "metadata": {},
   "outputs": [
    {
     "data": {
      "text/plain": [
       "count     604.000000\n",
       "mean     1925.816225\n",
       "std      1006.355201\n",
       "min         1.000000\n",
       "25%      1207.500000\n",
       "50%      1728.500000\n",
       "75%      2450.000000\n",
       "max      6500.000000\n",
       "Name: Rent, dtype: float64"
      ]
     },
     "execution_count": 6,
     "metadata": {},
     "output_type": "execute_result"
    }
   ],
   "source": [
    "df['Rent'].describe()"
   ]
  },
  {
   "cell_type": "code",
   "execution_count": 7,
   "metadata": {},
   "outputs": [],
   "source": [
    "from matplotlib import pyplot as plt"
   ]
  },
  {
   "cell_type": "code",
   "execution_count": 8,
   "metadata": {},
   "outputs": [
    {
     "data": {
      "text/plain": [
       "(array([ 20., 154., 200., 121.,  66.,  25.,  14.,   7.,   4.,   3.]),\n",
       " array([1.0000e+00, 6.5090e+02, 1.3008e+03, 1.9507e+03, 2.6006e+03,\n",
       "        3.2505e+03, 3.9004e+03, 4.5503e+03, 5.2002e+03, 5.8501e+03,\n",
       "        6.5000e+03]),\n",
       " <a list of 10 Patch objects>)"
      ]
     },
     "execution_count": 8,
     "metadata": {},
     "output_type": "execute_result"
    },
    {
     "data": {
      "image/png": "[encoded data removed]",
      "text/plain": [
       "<Figure size 432x288 with 1 Axes>"
      ]
     },
     "metadata": {},
     "output_type": "display_data"
    }
   ],
   "source": [
    "plt.hist(df['Rent'].fillna(df['Rent'].mean()))"
   ]
  },
  {
   "cell_type": "code",
   "execution_count": 9,
   "metadata": {},
   "outputs": [
    {
     "data": {
      "text/plain": [
       "(array([517.,  96.,   0.,   0.,   0.,   0.,   0.,   0.,   0.,   1.]),\n",
       " array([  10. ,  109.4,  208.8,  308.2,  407.6,  507. ,  606.4,  705.8,\n",
       "         805.2,  904.6, 1004. ]),\n",
       " <a list of 10 Patch objects>)"
      ]
     },
     "execution_count": 9,
     "metadata": {},
     "output_type": "execute_result"
    },
    {
     "data": {
      "image/png": "[encoded data removed]",
      "text/plain": [
       "<Figure size 432x288 with 1 Axes>"
      ]
     },
     "metadata": {},
     "output_type": "display_data"
    }
   ],
   "source": [
    "plt.hist(df['SurfaceArea'].fillna(df['SurfaceArea'].mean()))"
   ]
  },
  {
   "cell_type": "markdown",
   "metadata": {},
   "source": [
    "There exist a huge outlier! "
   ]
  },
  {
   "cell_type": "code",
   "execution_count": 10,
   "metadata": {},
   "outputs": [],
   "source": [
    "df.drop(df[df['SurfaceArea'] > 500].index, inplace = True)"
   ]
  },
  {
   "cell_type": "code",
   "execution_count": 11,
   "metadata": {},
   "outputs": [
    {
     "data": {
      "text/plain": [
       "(array([ 83.,  62., 103., 196.,  62.,  49.,  19.,  20.,  11.,   8.]),\n",
       " array([ 10. ,  28.3,  46.6,  64.9,  83.2, 101.5, 119.8, 138.1, 156.4,\n",
       "        174.7, 193. ]),\n",
       " <a list of 10 Patch objects>)"
      ]
     },
     "execution_count": 11,
     "metadata": {},
     "output_type": "execute_result"
    },
    {
     "data": {
      "image/png": "[encoded data removed]",
      "text/plain": [
       "<Figure size 432x288 with 1 Axes>"
      ]
     },
     "metadata": {},
     "output_type": "display_data"
    }
   ],
   "source": [
    "plt.hist(df['SurfaceArea'].fillna(df['SurfaceArea'].mean()))"
   ]
  }
 ],
 "metadata": {
  "kernelspec": {
   "display_name": "Python 3",
   "language": "python",
   "name": "python3"
  },
  "language_info": {
   "codemirror_mode": {
    "name": "ipython",
    "version": 3
   },
   "file_extension": ".py",
   "mimetype": "text/x-python",
   "name": "python",
   "nbconvert_exporter": "python",
   "pygments_lexer": "ipython3",
   "version": "3.5.2"
  }
 },
 "nbformat": 4,
 "nbformat_minor": 2
}
