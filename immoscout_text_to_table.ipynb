{
 "cells": [
  {
   "cell_type": "code",
   "execution_count": 1,
   "metadata": {},
   "outputs": [],
   "source": [
    "text_file = open('../rental_list/lausanne/20180517/page_1.txt')\n",
    "c = text_file.read()"
   ]
  },
  {
   "cell_type": "code",
   "execution_count": 2,
   "metadata": {},
   "outputs": [],
   "source": [
    "cutoff_str = '###'\n",
    "apt_start_n = c.find(cutoff_str) + 3\n",
    "apt_middle_n = c.find(cutoff_str, apt_start_n + 3)\n",
    "apt_end_n = c.find(cutoff_str, apt_middle_n + 3)"
   ]
  },
  {
   "cell_type": "code",
   "execution_count": 3,
   "metadata": {},
   "outputs": [],
   "source": [
    "single_apt_listing = c[apt_start_n:apt_end_n]\n",
    "apt_nRoom_area = single_apt_listing[2:].split(\"]\")[0]\n",
    "rest = single_apt_listing[2:].split(\"]\")[1]\n",
    "splt = rest[2:].split(\")\")\n",
    "apt_link = splt[0]\n",
    "rest = splt[1]\n",
    "splt = rest[6:].split(\"»\")\n",
    "apt_descr = splt[0]\n",
    "rest = splt[1]\n",
    "splt = rest.splitlines()\n",
    "apt_address = splt[2]\n",
    "apt_price = splt[6][4:]\n",
    "apt_bkmrk = splt[-2]\n",
    "\n",
    "apt_start_n = apt_end_n + 3\n",
    "apt_middle_n = c.find(cutoff_str, apt_start_n + 3)\n",
    "apt_end_n = c.find(cutoff_str, apt_middle_n + 3)"
   ]
  }
 ],
 "metadata": {
  "kernelspec": {
   "display_name": "Python 3",
   "language": "python",
   "name": "python3"
  },
  "language_info": {
   "codemirror_mode": {
    "name": "ipython",
    "version": 3
   },
   "file_extension": ".py",
   "mimetype": "text/x-python",
   "name": "python",
   "nbconvert_exporter": "python",
   "pygments_lexer": "ipython3",
   "version": "3.5.2"
  }
 },
 "nbformat": 4,
 "nbformat_minor": 2
}
