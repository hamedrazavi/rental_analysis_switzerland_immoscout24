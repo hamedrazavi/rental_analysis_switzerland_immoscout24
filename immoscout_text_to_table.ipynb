{
 "cells": [
  {
   "cell_type": "markdown",
   "metadata": {},
   "source": [
    "Convert immoscout html text (which is already saved) to a pandas dataframe. "
   ]
  },
  {
   "cell_type": "code",
   "execution_count": 1,
   "metadata": {},
   "outputs": [],
   "source": [
    "import pandas as pd\n",
    "import numpy as np\n",
    "from SingleAptListing_to_table import SingleAptListing_to_table"
   ]
  },
  {
   "cell_type": "code",
   "execution_count": 2,
   "metadata": {},
   "outputs": [],
   "source": [
    "df = pd.DataFrame()"
   ]
  },
  {
   "cell_type": "code",
   "execution_count": 3,
   "metadata": {},
   "outputs": [],
   "source": [
    "text_file = open('../rental_list/lausanne/20180517/page_1.txt')\n",
    "c = text_file.read()\n",
    "end_c_n = c.find(\"Page** \")\n",
    "c = c[0:end_c_n]\n",
    "\n",
    "cutoff_str = '###'\n",
    "apt_start_n = c.find(cutoff_str) + 3\n",
    "apt_middle_n = c.find(cutoff_str, apt_start_n + 3)\n",
    "apt_end_n = c.find(cutoff_str, apt_middle_n + 3)\n",
    "\n",
    "while len(c) > 10:\n",
    "    single_apt_listing = c[apt_start_n:apt_end_n]\n",
    "    c = c[apt_end_n:]\n",
    "    tmdf = SingleAptListing_to_table(single_apt_listing)\n",
    "    df = pd.concat(objs=[df, tmdf], axis = 0).reset_index(drop = True)\n",
    "    apt_start_n = 3\n",
    "    apt_middle_n = c.find(cutoff_str, apt_start_n + 3)\n",
    "    apt_end_n = c.find(cutoff_str, apt_middle_n + 3)"
   ]
  },
  {
   "cell_type": "code",
   "execution_count": 4,
   "metadata": {},
   "outputs": [
    {
     "data": {
      "text/html": [
       "<div>\n",
       "<style scoped>\n",
       "    .dataframe tbody tr th:only-of-type {\n",
       "        vertical-align: middle;\n",
       "    }\n",
       "\n",
       "    .dataframe tbody tr th {\n",
       "        vertical-align: top;\n",
       "    }\n",
       "\n",
       "    .dataframe thead th {\n",
       "        text-align: right;\n",
       "    }\n",
       "</style>\n",
       "<table border=\"1\" class=\"dataframe\">\n",
       "  <thead>\n",
       "    <tr style=\"text-align: right;\">\n",
       "      <th></th>\n",
       "      <th>Id</th>\n",
       "      <th>SurfaceArea</th>\n",
       "      <th>NumRooms</th>\n",
       "      <th>Type</th>\n",
       "      <th>Address</th>\n",
       "      <th>Description</th>\n",
       "      <th>Rent</th>\n",
       "      <th>Bookmark</th>\n",
       "      <th>Link</th>\n",
       "    </tr>\n",
       "  </thead>\n",
       "  <tbody>\n",
       "    <tr>\n",
       "      <th>19</th>\n",
       "      <td>4924504</td>\n",
       "      <td>31.0</td>\n",
       "      <td>1.0</td>\n",
       "      <td>flat</td>\n",
       "      <td>Rue Chaucrau 12, 1003 Lausanne, VD</td>\n",
       "      <td>»Appartement, 1.0 pièce(s)</td>\n",
       "      <td>810.0</td>\n",
       "      <td>None</td>\n",
       "      <td>en/d/flat-rent-\\nlausanne/4924504?s=2&amp;t=1&amp;l=20...</td>\n",
       "    </tr>\n",
       "    <tr>\n",
       "      <th>20</th>\n",
       "      <td>3967177</td>\n",
       "      <td>24.0</td>\n",
       "      <td>1.0</td>\n",
       "      <td>furnished-residential-property</td>\n",
       "      <td>Place du Vallon 18, 1005 Lausanne, VD</td>\n",
       "      <td>»A deux pas du CHUV et de la Cité</td>\n",
       "      <td>820.0</td>\n",
       "      <td>None</td>\n",
       "      <td>en/d/furnished-residential-property-rent-\\nlau...</td>\n",
       "    </tr>\n",
       "    <tr>\n",
       "      <th>21</th>\n",
       "      <td>4917232</td>\n",
       "      <td>19.0</td>\n",
       "      <td>1.0</td>\n",
       "      <td>flat</td>\n",
       "      <td>Grandchamp 9, 1018 Lausanne, VD</td>\n",
       "      <td>»Studios neufs sis à LAUSANNE</td>\n",
       "      <td>850.0</td>\n",
       "      <td>None</td>\n",
       "      <td>en/d/flat-rent-\\nlausanne/4917232?s=2&amp;t=1&amp;l=20...</td>\n",
       "    </tr>\n",
       "    <tr>\n",
       "      <th>22</th>\n",
       "      <td>4929622</td>\n",
       "      <td>30.0</td>\n",
       "      <td>1.5</td>\n",
       "      <td>flat</td>\n",
       "      <td>Rte Aloys-Fauquez 98, 1018 Lausanne, VD</td>\n",
       "      <td>»Appartement, 1.5 pièce(s)</td>\n",
       "      <td>850.0</td>\n",
       "      <td>None</td>\n",
       "      <td>en/d/flat-rent-\\nlausanne/4929622?s=2&amp;t=1&amp;l=20...</td>\n",
       "    </tr>\n",
       "    <tr>\n",
       "      <th>23</th>\n",
       "      <td>4895410</td>\n",
       "      <td>17.0</td>\n",
       "      <td>1.0</td>\n",
       "      <td>single-room</td>\n",
       "      <td>Chemin de Montolivet 19, 1006 Lausanne, VD</td>\n",
       "      <td>»1006 Lausanne - Chemin de Montolivet 19 - Cha...</td>\n",
       "      <td>860.0</td>\n",
       "      <td>None</td>\n",
       "      <td>en/d/single-room-rent-\\nlausanne/4895410?s=2&amp;t...</td>\n",
       "    </tr>\n",
       "  </tbody>\n",
       "</table>\n",
       "</div>"
      ],
      "text/plain": [
       "         Id  SurfaceArea  NumRooms                            Type  \\\n",
       "19  4924504         31.0       1.0                            flat   \n",
       "20  3967177         24.0       1.0  furnished-residential-property   \n",
       "21  4917232         19.0       1.0                            flat   \n",
       "22  4929622         30.0       1.5                            flat   \n",
       "23  4895410         17.0       1.0                     single-room   \n",
       "\n",
       "                                       Address  \\\n",
       "19          Rue Chaucrau 12, 1003 Lausanne, VD   \n",
       "20       Place du Vallon 18, 1005 Lausanne, VD   \n",
       "21             Grandchamp 9, 1018 Lausanne, VD   \n",
       "22     Rte Aloys-Fauquez 98, 1018 Lausanne, VD   \n",
       "23  Chemin de Montolivet 19, 1006 Lausanne, VD   \n",
       "\n",
       "                                          Description   Rent Bookmark  \\\n",
       "19                         »Appartement, 1.0 pièce(s)  810.0     None   \n",
       "20                  »A deux pas du CHUV et de la Cité  820.0     None   \n",
       "21                      »Studios neufs sis à LAUSANNE  850.0     None   \n",
       "22                         »Appartement, 1.5 pièce(s)  850.0     None   \n",
       "23  »1006 Lausanne - Chemin de Montolivet 19 - Cha...  860.0     None   \n",
       "\n",
       "                                                 Link  \n",
       "19  en/d/flat-rent-\\nlausanne/4924504?s=2&t=1&l=20...  \n",
       "20  en/d/furnished-residential-property-rent-\\nlau...  \n",
       "21  en/d/flat-rent-\\nlausanne/4917232?s=2&t=1&l=20...  \n",
       "22  en/d/flat-rent-\\nlausanne/4929622?s=2&t=1&l=20...  \n",
       "23  en/d/single-room-rent-\\nlausanne/4895410?s=2&t...  "
      ]
     },
     "execution_count": 4,
     "metadata": {},
     "output_type": "execute_result"
    }
   ],
   "source": [
    "df.tail()"
   ]
  },
  {
   "cell_type": "code",
   "execution_count": 5,
   "metadata": {},
   "outputs": [
    {
     "data": {
      "text/plain": [
       "count     23.000000\n",
       "mean      44.434783\n",
       "std       37.547335\n",
       "min       10.000000\n",
       "25%       17.500000\n",
       "50%       30.000000\n",
       "75%       67.500000\n",
       "max      140.000000\n",
       "Name: SurfaceArea, dtype: float64"
      ]
     },
     "execution_count": 5,
     "metadata": {},
     "output_type": "execute_result"
    }
   ],
   "source": [
    "df['SurfaceArea'].describe()"
   ]
  },
  {
   "cell_type": "code",
   "execution_count": 6,
   "metadata": {},
   "outputs": [
    {
     "data": {
      "text/plain": [
       "count      22.000000\n",
       "mean     1334.590909\n",
       "std       973.873154\n",
       "min       550.000000\n",
       "25%       752.500000\n",
       "50%       835.000000\n",
       "75%      1428.750000\n",
       "max      3800.000000\n",
       "Name: Rent, dtype: float64"
      ]
     },
     "execution_count": 6,
     "metadata": {},
     "output_type": "execute_result"
    }
   ],
   "source": [
    "df['Rent'].describe()"
   ]
  },
  {
   "cell_type": "code",
   "execution_count": null,
   "metadata": {},
   "outputs": [],
   "source": []
  }
 ],
 "metadata": {
  "kernelspec": {
   "display_name": "Python 3",
   "language": "python",
   "name": "python3"
  },
  "language_info": {
   "codemirror_mode": {
    "name": "ipython",
    "version": 3
   },
   "file_extension": ".py",
   "mimetype": "text/x-python",
   "name": "python",
   "nbconvert_exporter": "python",
   "pygments_lexer": "ipython3",
   "version": "3.5.2"
  }
 },
 "nbformat": 4,
 "nbformat_minor": 2
}
